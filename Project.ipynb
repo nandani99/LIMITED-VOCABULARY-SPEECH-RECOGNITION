{
  "nbformat": 4,
  "nbformat_minor": 0,
  "metadata": {
    "accelerator": "GPU",
    "colab": {
      "name": "Project.ipynb",
      "provenance": [],
      "collapsed_sections": []
    },
    "kernelspec": {
      "display_name": "Python 3",
      "language": "python",
      "name": "python3"
    },
    "language_info": {
      "codemirror_mode": {
        "name": "ipython",
        "version": 3
      },
      "file_extension": ".py",
      "mimetype": "text/x-python",
      "name": "python",
      "nbconvert_exporter": "python",
      "pygments_lexer": "ipython3",
      "version": "3.7.6"
    }
  },
  "cells": [
    {
      "cell_type": "code",
      "metadata": {
        "colab": {
          "base_uri": "https://localhost:8080/",
          "height": 17
        },
        "id": "IIJvXA81xWEk",
        "outputId": "b194c645-12b4-4334-d672-684a737a2050"
      },
      "source": [
        "import numpy as np\n",
        "import pandas as pd\n",
        "import pathlib\n",
        "from tensorflow import keras\n",
        "from tensorflow.keras.layers.experimental import preprocessing\n",
        "from tensorflow.keras import layers\n",
        "from tensorflow.keras import Sequential\n",
        "from tensorflow.keras.layers import Conv1D, Activation, BatchNormalization,Dropout, MaxPooling1D,Flatten,Dense\n",
        "from keras.utils import to_categorical\n",
        "from tensorflow.keras import models\n",
        "from IPython import display\n",
        "import os\n",
        "from sklearn.utils import shuffle\n",
        "from os.path import isdir, join\n",
        "from pathlib import Path\n",
        "from scipy.fftpack import fft\n",
        "from scipy import signal\n",
        "from scipy.io import wavfile\n",
        "import librosa\n",
        "import matplotlib.pyplot as plt\n",
        "import IPython.display as ipd\n",
        "import librosa.display\n",
        "import plotly.offline as py\n",
        "py.init_notebook_mode(connected=True)\n",
        "import plotly.graph_objs as go\n",
        "import plotly.tools as tls\n",
        "%matplotlib inline\n",
        "from sklearn.model_selection import train_test_split\n",
        "from sklearn.tree import DecisionTreeClassifier\n",
        "from sklearn import svm\n",
        "import tensorflow as tf"
      ],
      "execution_count": 80,
      "outputs": [
        {
          "output_type": "display_data",
          "data": {
            "text/html": [
              "        <script type=\"text/javascript\">\n",
              "        window.PlotlyConfig = {MathJaxConfig: 'local'};\n",
              "        if (window.MathJax) {MathJax.Hub.Config({SVG: {font: \"STIX-Web\"}});}\n",
              "        if (typeof require !== 'undefined') {\n",
              "        require.undef(\"plotly\");\n",
              "        requirejs.config({\n",
              "            paths: {\n",
              "                'plotly': ['https://cdn.plot.ly/plotly-latest.min']\n",
              "            }\n",
              "        });\n",
              "        require(['plotly'], function(Plotly) {\n",
              "            window._Plotly = Plotly;\n",
              "        });\n",
              "        }\n",
              "        </script>\n",
              "        "
            ]
          },
          "metadata": {
            "tags": []
          }
        }
      ]
    },
    {
      "cell_type": "code",
      "metadata": {
        "id": "AAyOAtBT5ITu"
      },
      "source": [
        "# Set seed for experiment reproducibility\n",
        "seed = 16\n",
        "tf.random.set_seed(seed)\n",
        "np.random.seed(seed)"
      ],
      "execution_count": 81,
      "outputs": []
    },
    {
      "cell_type": "code",
      "metadata": {
        "id": "LwRP3AAH9q8B"
      },
      "source": [
        "#data generation\n",
        "tf.keras.utils.get_file(\n",
        "    'mini_speech_commands.zip',\n",
        "     origin=\"http://storage.googleapis.com/download.tensorflow.org/data/mini_speech_commands.zip\",\n",
        "     extract=True,\n",
        "     cache_dir='.', cache_subdir='data')\n",
        "data_dir = pathlib.Path('/content/data/mini_speech_commands')"
      ],
      "execution_count": 82,
      "outputs": []
    },
    {
      "cell_type": "code",
      "metadata": {
        "colab": {
          "base_uri": "https://localhost:8080/"
        },
        "id": "ZW_I8YSLCQ2m",
        "outputId": "984f7104-fdc9-4119-d597-7f12e65c000d"
      },
      "source": [
        "commands = np.array(tf.io.gfile.listdir(str(data_dir)))\n",
        "commands = commands[commands != 'README.md']\n",
        "print('Commands:', commands)"
      ],
      "execution_count": 83,
      "outputs": [
        {
          "output_type": "stream",
          "text": [
            "Commands: ['yes' 'go' 'no' 'up' 'left' 'down' 'right' 'stop']\n"
          ],
          "name": "stdout"
        }
      ]
    },
    {
      "cell_type": "code",
      "metadata": {
        "colab": {
          "base_uri": "https://localhost:8080/"
        },
        "id": "NWRUDgSv_pue",
        "outputId": "ff1cdf84-ced9-42ac-e607-7023d7f849ae"
      },
      "source": [
        "filenames = tf.io.gfile.glob(str(data_dir) + '/*/*')\n",
        "filenames = tf.random.shuffle(filenames)\n",
        "num_samples = len(filenames)\n",
        "print(num_samples)"
      ],
      "execution_count": 84,
      "outputs": [
        {
          "output_type": "stream",
          "text": [
            "8000\n"
          ],
          "name": "stdout"
        }
      ]
    },
    {
      "cell_type": "code",
      "metadata": {
        "colab": {
          "base_uri": "https://localhost:8080/"
        },
        "id": "86Cd4sx9ZC-K",
        "outputId": "a81ab48e-8fa0-4a27-bfe8-fe1d09f97cb8"
      },
      "source": [
        "filenames[0]"
      ],
      "execution_count": 85,
      "outputs": [
        {
          "output_type": "execute_result",
          "data": {
            "text/plain": [
              "<tf.Tensor: shape=(), dtype=string, numpy=b'/content/data/mini_speech_commands/stop/0132a06d_nohash_4.wav'>"
            ]
          },
          "metadata": {
            "tags": []
          },
          "execution_count": 85
        }
      ]
    },
    {
      "cell_type": "code",
      "metadata": {
        "colab": {
          "base_uri": "https://localhost:8080/"
        },
        "id": "gA6YmOvyY0Gh",
        "outputId": "f2b1513f-714d-49d0-941d-b1558ebf216a"
      },
      "source": [
        "check = filenames[0].numpy()\n",
        "check"
      ],
      "execution_count": 86,
      "outputs": [
        {
          "output_type": "execute_result",
          "data": {
            "text/plain": [
              "b'/content/data/mini_speech_commands/stop/0132a06d_nohash_4.wav'"
            ]
          },
          "metadata": {
            "tags": []
          },
          "execution_count": 86
        }
      ]
    },
    {
      "cell_type": "code",
      "metadata": {
        "colab": {
          "base_uri": "https://localhost:8080/",
          "height": 35
        },
        "id": "K8Q_jUu3ZOmv",
        "outputId": "88b2d2e2-805f-49b9-bb70-fb9f581383b0"
      },
      "source": [
        "check.decode(\"utf-8\")"
      ],
      "execution_count": 87,
      "outputs": [
        {
          "output_type": "execute_result",
          "data": {
            "application/vnd.google.colaboratory.intrinsic+json": {
              "type": "string"
            },
            "text/plain": [
              "'/content/data/mini_speech_commands/stop/0132a06d_nohash_4.wav'"
            ]
          },
          "metadata": {
            "tags": []
          },
          "execution_count": 87
        }
      ]
    },
    {
      "cell_type": "code",
      "metadata": {
        "id": "4XDmt-y0iQb_"
      },
      "source": [
        "sample_rate , samples = wavfile.read(check)"
      ],
      "execution_count": 88,
      "outputs": []
    },
    {
      "cell_type": "code",
      "metadata": {
        "colab": {
          "base_uri": "https://localhost:8080/"
        },
        "id": "CfzqGkmKQJ1a",
        "outputId": "3eefa7e1-cad6-4196-840a-03e574ba7946"
      },
      "source": [
        "samples.shape"
      ],
      "execution_count": 89,
      "outputs": [
        {
          "output_type": "execute_result",
          "data": {
            "text/plain": [
              "(16000,)"
            ]
          },
          "metadata": {
            "tags": []
          },
          "execution_count": 89
        }
      ]
    },
    {
      "cell_type": "code",
      "metadata": {
        "id": "kRRTd0Uf1Iwj"
      },
      "source": [
        "freq, time, spectrogram = signal.spectrogram(samples , fs = sample_rate)"
      ],
      "execution_count": 90,
      "outputs": []
    },
    {
      "cell_type": "code",
      "metadata": {
        "id": "dQzYpoIcbgo0"
      },
      "source": [
        "# fig = plt.figure(figsize=(14, 8))\n",
        "\n",
        "\n",
        "# ax1 = fig.add_subplot(211)\n",
        "\n",
        "# ax1.set_ylabel('Amplitude')\n",
        "# ax1.plot(np.linspace(0, sample_rate/len(samples), sample_rate), samples)\n",
        "\n",
        "\n",
        "\n",
        "# ax2 = fig.add_subplot(212)\n",
        "# ax2.imshow(spectrogram.T, aspect='auto', origin='lower', \n",
        "#            extent=[time.min(), time.max(), freq.min(), freq.max()])\n",
        "# ax2.set_yticks(freq[::16])\n",
        "# ax2.set_xticks(time[::16])\n",
        "\n",
        "# ax2.set_ylabel('Freqs in Hz')\n",
        "# ax2.set_xlabel('Seconds')\n",
        "\n",
        "# # plt.show()"
      ],
      "execution_count": 91,
      "outputs": []
    },
    {
      "cell_type": "code",
      "metadata": {
        "id": "92JuOMvefE0D"
      },
      "source": [
        "samples, sample_rate = librosa.load(check)"
      ],
      "execution_count": 93,
      "outputs": []
    },
    {
      "cell_type": "code",
      "metadata": {
        "colab": {
          "base_uri": "https://localhost:8080/",
          "height": 297
        },
        "id": "F1YQQ_rcen2I",
        "outputId": "b7a4df6a-ef85-4fe6-b0af-669bed861ba7"
      },
      "source": [
        "spect = librosa.feature.melspectrogram(samples, sr=sample_rate, n_mels=128)\n",
        "log_spect = librosa.power_to_db(spect, ref=np.max)\n",
        "\n",
        "plt.figure(figsize=(12, 4))\n",
        "librosa.display.specshow(log_spect, sr=sample_rate, x_axis='time', y_axis='mel')\n",
        "plt.title('Mel power spectrogram ')\n",
        "plt.colorbar(format='%+02.0f dB')\n",
        "plt.tight_layout()"
      ],
      "execution_count": 94,
      "outputs": [
        {
          "output_type": "display_data",
          "data": {
            "image/png": "[encoded data removed]",
            "text/plain": [
              "<Figure size 864x288 with 2 Axes>"
            ]
          },
          "metadata": {
            "tags": [],
            "needs_background": "light"
          }
        }
      ]
    },
    {
      "cell_type": "code",
      "metadata": {
        "colab": {
          "base_uri": "https://localhost:8080/",
          "height": 415
        },
        "id": "neLFpI1CeSZ2",
        "outputId": "385f7a37-3008-4fdd-b047-f8873dd4be66"
      },
      "source": [
        "filename = []\n",
        "\n",
        "for f in filenames:\n",
        "  filename.append(f.numpy().decode(\"utf-8\"))\n",
        "# filename\n",
        "\n",
        "sample_rates=[]\n",
        "samples = []\n",
        "label = []\n",
        "for f in filename:\n",
        "  smpl,smpl_rt = librosa.load(f)\n",
        "  smpl = librosa.resample(smpl,smpl_rt,8000)\n",
        "  samples.append(smpl)\n",
        "  sample_rates.append(8000)\n",
        "  label.append(f.rsplit(\"/\",2)[1])\n",
        "# samples\n",
        "df = pd.DataFrame()\n",
        "df['Sample'] = samples\n",
        "df['Sample_Rate'] = sample_rates\n",
        "df[\"Label\"] = label\n",
        "df"
      ],
      "execution_count": 95,
      "outputs": [
        {
          "output_type": "execute_result",
          "data": {
            "text/html": [
              "<div>\n",
              "<style scoped>\n",
              "    .dataframe tbody tr th:only-of-type {\n",
              "        vertical-align: middle;\n",
              "    }\n",
              "\n",
              "    .dataframe tbody tr th {\n",
              "        vertical-align: top;\n",
              "    }\n",
              "\n",
              "    .dataframe thead th {\n",
              "        text-align: right;\n",
              "    }\n",
              "</style>\n",
              "<table border=\"1\" class=\"dataframe\">\n",
              "  <thead>\n",
              "    <tr style=\"text-align: right;\">\n",
              "      <th></th>\n",
              "      <th>Sample</th>\n",
              "      <th>Sample_Rate</th>\n",
              "      <th>Label</th>\n",
              "    </tr>\n",
              "  </thead>\n",
              "  <tbody>\n",
              "    <tr>\n",
              "      <th>0</th>\n",
              "      <td>[-7.6012075e-05, -0.00039937985, -0.0006083583...</td>\n",
              "      <td>8000</td>\n",
              "      <td>stop</td>\n",
              "    </tr>\n",
              "    <tr>\n",
              "      <th>1</th>\n",
              "      <td>[0.00014733513, 6.0848917e-05, -0.00018095208,...</td>\n",
              "      <td>8000</td>\n",
              "      <td>no</td>\n",
              "    </tr>\n",
              "    <tr>\n",
              "      <th>2</th>\n",
              "      <td>[-0.00018198133, -0.00033874318, -0.0002097902...</td>\n",
              "      <td>8000</td>\n",
              "      <td>right</td>\n",
              "    </tr>\n",
              "    <tr>\n",
              "      <th>3</th>\n",
              "      <td>[-0.00056744023, 0.00023026753, 0.0011649787, ...</td>\n",
              "      <td>8000</td>\n",
              "      <td>right</td>\n",
              "    </tr>\n",
              "    <tr>\n",
              "      <th>4</th>\n",
              "      <td>[0.0016161515, 0.0046419827, 0.008236466, 0.00...</td>\n",
              "      <td>8000</td>\n",
              "      <td>stop</td>\n",
              "    </tr>\n",
              "    <tr>\n",
              "      <th>...</th>\n",
              "      <td>...</td>\n",
              "      <td>...</td>\n",
              "      <td>...</td>\n",
              "    </tr>\n",
              "    <tr>\n",
              "      <th>7995</th>\n",
              "      <td>[0.00386812, 0.0070186667, 0.007101933, 0.0074...</td>\n",
              "      <td>8000</td>\n",
              "      <td>no</td>\n",
              "    </tr>\n",
              "    <tr>\n",
              "      <th>7996</th>\n",
              "      <td>[-0.0001560897, -0.00035819216, -4.9689308e-05...</td>\n",
              "      <td>8000</td>\n",
              "      <td>stop</td>\n",
              "    </tr>\n",
              "    <tr>\n",
              "      <th>7997</th>\n",
              "      <td>[-0.00016574738, -0.0020635838, -0.0029040675,...</td>\n",
              "      <td>8000</td>\n",
              "      <td>left</td>\n",
              "    </tr>\n",
              "    <tr>\n",
              "      <th>7998</th>\n",
              "      <td>[-2.7127564e-05, 8.400315e-05, 7.836971e-05, -...</td>\n",
              "      <td>8000</td>\n",
              "      <td>down</td>\n",
              "    </tr>\n",
              "    <tr>\n",
              "      <th>7999</th>\n",
              "      <td>[1.1671182e-05, 5.4059063e-05, 7.458786e-05, 2...</td>\n",
              "      <td>8000</td>\n",
              "      <td>up</td>\n",
              "    </tr>\n",
              "  </tbody>\n",
              "</table>\n",
              "<p>8000 rows × 3 columns</p>\n",
              "</div>"
            ],
            "text/plain": [
              "                                                 Sample  Sample_Rate  Label\n",
              "0     [-7.6012075e-05, -0.00039937985, -0.0006083583...         8000   stop\n",
              "1     [0.00014733513, 6.0848917e-05, -0.00018095208,...         8000     no\n",
              "2     [-0.00018198133, -0.00033874318, -0.0002097902...         8000  right\n",
              "3     [-0.00056744023, 0.00023026753, 0.0011649787, ...         8000  right\n",
              "4     [0.0016161515, 0.0046419827, 0.008236466, 0.00...         8000   stop\n",
              "...                                                 ...          ...    ...\n",
              "7995  [0.00386812, 0.0070186667, 0.007101933, 0.0074...         8000     no\n",
              "7996  [-0.0001560897, -0.00035819216, -4.9689308e-05...         8000   stop\n",
              "7997  [-0.00016574738, -0.0020635838, -0.0029040675,...         8000   left\n",
              "7998  [-2.7127564e-05, 8.400315e-05, 7.836971e-05, -...         8000   down\n",
              "7999  [1.1671182e-05, 5.4059063e-05, 7.458786e-05, 2...         8000     up\n",
              "\n",
              "[8000 rows x 3 columns]"
            ]
          },
          "metadata": {
            "tags": []
          },
          "execution_count": 95
        }
      ]
    },
    {
      "cell_type": "code",
      "metadata": {
        "colab": {
          "base_uri": "https://localhost:8080/",
          "height": 294
        },
        "id": "vwR5DFeQFCNN",
        "outputId": "d5491c6a-92a1-4815-a3bd-298d12c1bff1"
      },
      "source": [
        "df.describe()"
      ],
      "execution_count": 123,
      "outputs": [
        {
          "output_type": "execute_result",
          "data": {
            "text/html": [
              "<div>\n",
              "<style scoped>\n",
              "    .dataframe tbody tr th:only-of-type {\n",
              "        vertical-align: middle;\n",
              "    }\n",
              "\n",
              "    .dataframe tbody tr th {\n",
              "        vertical-align: top;\n",
              "    }\n",
              "\n",
              "    .dataframe thead th {\n",
              "        text-align: right;\n",
              "    }\n",
              "</style>\n",
              "<table border=\"1\" class=\"dataframe\">\n",
              "  <thead>\n",
              "    <tr style=\"text-align: right;\">\n",
              "      <th></th>\n",
              "      <th>Sample_Rate</th>\n",
              "    </tr>\n",
              "  </thead>\n",
              "  <tbody>\n",
              "    <tr>\n",
              "      <th>count</th>\n",
              "      <td>8000.0</td>\n",
              "    </tr>\n",
              "    <tr>\n",
              "      <th>mean</th>\n",
              "      <td>8000.0</td>\n",
              "    </tr>\n",
              "    <tr>\n",
              "      <th>std</th>\n",
              "      <td>0.0</td>\n",
              "    </tr>\n",
              "    <tr>\n",
              "      <th>min</th>\n",
              "      <td>8000.0</td>\n",
              "    </tr>\n",
              "    <tr>\n",
              "      <th>25%</th>\n",
              "      <td>8000.0</td>\n",
              "    </tr>\n",
              "    <tr>\n",
              "      <th>50%</th>\n",
              "      <td>8000.0</td>\n",
              "    </tr>\n",
              "    <tr>\n",
              "      <th>75%</th>\n",
              "      <td>8000.0</td>\n",
              "    </tr>\n",
              "    <tr>\n",
              "      <th>max</th>\n",
              "      <td>8000.0</td>\n",
              "    </tr>\n",
              "  </tbody>\n",
              "</table>\n",
              "</div>"
            ],
            "text/plain": [
              "       Sample_Rate\n",
              "count       8000.0\n",
              "mean        8000.0\n",
              "std            0.0\n",
              "min         8000.0\n",
              "25%         8000.0\n",
              "50%         8000.0\n",
              "75%         8000.0\n",
              "max         8000.0"
            ]
          },
          "metadata": {
            "tags": []
          },
          "execution_count": 123
        }
      ]
    },
    {
      "cell_type": "code",
      "metadata": {
        "colab": {
          "base_uri": "https://localhost:8080/"
        },
        "id": "2JBovTVXl8OE",
        "outputId": "677f5169-4dff-4dfe-f88b-8072732848b9"
      },
      "source": [
        "df.info()"
      ],
      "execution_count": 124,
      "outputs": [
        {
          "output_type": "stream",
          "text": [
            "<class 'pandas.core.frame.DataFrame'>\n",
            "RangeIndex: 8000 entries, 0 to 7999\n",
            "Data columns (total 3 columns):\n",
            " #   Column       Non-Null Count  Dtype \n",
            "---  ------       --------------  ----- \n",
            " 0   Sample       8000 non-null   object\n",
            " 1   Sample_Rate  8000 non-null   int64 \n",
            " 2   Label        8000 non-null   object\n",
            "dtypes: int64(1), object(2)\n",
            "memory usage: 187.6+ KB\n"
          ],
          "name": "stdout"
        }
      ]
    },
    {
      "cell_type": "code",
      "metadata": {
        "colab": {
          "base_uri": "https://localhost:8080/"
        },
        "id": "TSofr6UAl-93",
        "outputId": "10623eab-5076-4f30-aa8c-034228ce855b"
      },
      "source": [
        "df.isnull().sum()"
      ],
      "execution_count": 125,
      "outputs": [
        {
          "output_type": "execute_result",
          "data": {
            "text/plain": [
              "Sample         0\n",
              "Sample_Rate    0\n",
              "Label          0\n",
              "dtype: int64"
            ]
          },
          "metadata": {
            "tags": []
          },
          "execution_count": 125
        }
      ]
    },
    {
      "cell_type": "code",
      "metadata": {
        "colab": {
          "base_uri": "https://localhost:8080/"
        },
        "id": "Hi45z6ttmQHu",
        "outputId": "1dbfc5d7-bca1-48a1-e7eb-6359ddcea1d1"
      },
      "source": [
        "df.isnull().sum()"
      ],
      "execution_count": 99,
      "outputs": [
        {
          "output_type": "execute_result",
          "data": {
            "text/plain": [
              "Sample         0\n",
              "Sample_Rate    0\n",
              "Label          0\n",
              "dtype: int64"
            ]
          },
          "metadata": {
            "tags": []
          },
          "execution_count": 99
        }
      ]
    },
    {
      "cell_type": "code",
      "metadata": {
        "colab": {
          "base_uri": "https://localhost:8080/"
        },
        "id": "RzM3VJPbmTBC",
        "outputId": "8c040178-0d49-40e0-b4cf-bfb983a7a074"
      },
      "source": [
        "count = df[\"Label\"].value_counts()\n",
        "count"
      ],
      "execution_count": 126,
      "outputs": [
        {
          "output_type": "execute_result",
          "data": {
            "text/plain": [
              "right    1000\n",
              "yes      1000\n",
              "down     1000\n",
              "left     1000\n",
              "up       1000\n",
              "go       1000\n",
              "stop     1000\n",
              "no       1000\n",
              "Name: Label, dtype: int64"
            ]
          },
          "metadata": {
            "tags": []
          },
          "execution_count": 126
        }
      ]
    },
    {
      "cell_type": "code",
      "metadata": {
        "id": "hpdP8nVmnIB3",
        "colab": {
          "base_uri": "https://localhost:8080/",
          "height": 279
        },
        "outputId": "13b0381f-4949-42a1-96de-5f70bf1d3ade"
      },
      "source": [
        "sns.histplot(data = df , x = 'Label' )\n",
        "plt.show()"
      ],
      "execution_count": 127,
      "outputs": [
        {
          "output_type": "display_data",
          "data": {
            "image/png": "[encoded data removed]",
            "text/plain": [
              "<Figure size 432x288 with 1 Axes>"
            ]
          },
          "metadata": {
            "tags": [],
            "needs_background": "light"
          }
        }
      ]
    },
    {
      "cell_type": "code",
      "metadata": {
        "id": "qoxY2FaKqLQ1"
      },
      "source": [
        "def plot_spect(sample_rate , samples , label , val):\n",
        "  fig = plt.figure(figsize=(14, 8))\n",
        "  ax = fig.add_subplot(8 , 1 , val )\n",
        "  ax.set_ylabel('Amplitude')\n",
        "  plt.title(label)\n",
        "  ax.plot(np.linspace(0, sample_rate/len(samples), sample_rate), samples)"
      ],
      "execution_count": 128,
      "outputs": []
    },
    {
      "cell_type": "code",
      "metadata": {
        "id": "wwr4IvOLnzda",
        "colab": {
          "base_uri": "https://localhost:8080/",
          "height": 35
        },
        "outputId": "b6d0ed0a-6da5-4fcb-b1b6-38aae00ee079"
      },
      "source": [
        "'''\n",
        "val = 1\n",
        "\n",
        "for i in range(df.shape[0]):\n",
        "  plot_spect(df['Sample_Rate'][i] , df['Sample'][i] , df['Label'][i], val )\n",
        "  val = val + 1\n",
        "'''"
      ],
      "execution_count": 103,
      "outputs": [
        {
          "output_type": "execute_result",
          "data": {
            "application/vnd.google.colaboratory.intrinsic+json": {
              "type": "string"
            },
            "text/plain": [
              "\"\\nval = 1\\n\\nfor i in range(df.shape[0]):\\n  plot_spect(df['Sample_Rate'][i] , df['Sample'][i] , df['Label'][i], val )\\n  val = val + 1\\n\""
            ]
          },
          "metadata": {
            "tags": []
          },
          "execution_count": 103
        }
      ]
    },
    {
      "cell_type": "code",
      "metadata": {
        "id": "m79ZrZptuAaq"
      },
      "source": [
        "encode_label = {'Label' : {'go' : 0 , 'up' : 1 , 'stop' : 2 , 'no' : 3 , 'down' : 4 ,\n",
        "                           'yes' : 5 , 'right' : 6 , 'left' :7}}"
      ],
      "execution_count": 129,
      "outputs": []
    },
    {
      "cell_type": "code",
      "metadata": {
        "id": "QQs2FTY4z6Uo",
        "colab": {
          "base_uri": "https://localhost:8080/",
          "height": 355
        },
        "outputId": "e7e192c0-162e-4392-a4fd-9270e7955ce3"
      },
      "source": [
        "dfr = df.replace(encode_label)\n",
        "dfr.head(n=10)"
      ],
      "execution_count": 130,
      "outputs": [
        {
          "output_type": "execute_result",
          "data": {
            "text/html": [
              "<div>\n",
              "<style scoped>\n",
              "    .dataframe tbody tr th:only-of-type {\n",
              "        vertical-align: middle;\n",
              "    }\n",
              "\n",
              "    .dataframe tbody tr th {\n",
              "        vertical-align: top;\n",
              "    }\n",
              "\n",
              "    .dataframe thead th {\n",
              "        text-align: right;\n",
              "    }\n",
              "</style>\n",
              "<table border=\"1\" class=\"dataframe\">\n",
              "  <thead>\n",
              "    <tr style=\"text-align: right;\">\n",
              "      <th></th>\n",
              "      <th>Sample</th>\n",
              "      <th>Sample_Rate</th>\n",
              "      <th>Label</th>\n",
              "    </tr>\n",
              "  </thead>\n",
              "  <tbody>\n",
              "    <tr>\n",
              "      <th>0</th>\n",
              "      <td>[-7.6012075e-05, -0.00039937985, -0.0006083583...</td>\n",
              "      <td>8000</td>\n",
              "      <td>2</td>\n",
              "    </tr>\n",
              "    <tr>\n",
              "      <th>1</th>\n",
              "      <td>[0.00014733513, 6.0848917e-05, -0.00018095208,...</td>\n",
              "      <td>8000</td>\n",
              "      <td>3</td>\n",
              "    </tr>\n",
              "    <tr>\n",
              "      <th>2</th>\n",
              "      <td>[-0.00018198133, -0.00033874318, -0.0002097902...</td>\n",
              "      <td>8000</td>\n",
              "      <td>6</td>\n",
              "    </tr>\n",
              "    <tr>\n",
              "      <th>3</th>\n",
              "      <td>[-0.00056744023, 0.00023026753, 0.0011649787, ...</td>\n",
              "      <td>8000</td>\n",
              "      <td>6</td>\n",
              "    </tr>\n",
              "    <tr>\n",
              "      <th>4</th>\n",
              "      <td>[0.0016161515, 0.0046419827, 0.008236466, 0.00...</td>\n",
              "      <td>8000</td>\n",
              "      <td>2</td>\n",
              "    </tr>\n",
              "    <tr>\n",
              "      <th>5</th>\n",
              "      <td>[0.0013857705, 0.0034491864, 0.0042296564, 0.0...</td>\n",
              "      <td>8000</td>\n",
              "      <td>0</td>\n",
              "    </tr>\n",
              "    <tr>\n",
              "      <th>6</th>\n",
              "      <td>[-0.000120132434, -0.0016094118, -0.0029186795...</td>\n",
              "      <td>8000</td>\n",
              "      <td>1</td>\n",
              "    </tr>\n",
              "    <tr>\n",
              "      <th>7</th>\n",
              "      <td>[0.00019457292, 0.0007600711, 0.00034040553, -...</td>\n",
              "      <td>8000</td>\n",
              "      <td>1</td>\n",
              "    </tr>\n",
              "    <tr>\n",
              "      <th>8</th>\n",
              "      <td>[-0.0026423142, -0.0038491387, -0.0039986665, ...</td>\n",
              "      <td>8000</td>\n",
              "      <td>1</td>\n",
              "    </tr>\n",
              "    <tr>\n",
              "      <th>9</th>\n",
              "      <td>[-0.0015159113, -0.0023767743, -0.0021987108, ...</td>\n",
              "      <td>8000</td>\n",
              "      <td>2</td>\n",
              "    </tr>\n",
              "  </tbody>\n",
              "</table>\n",
              "</div>"
            ],
            "text/plain": [
              "                                              Sample  Sample_Rate  Label\n",
              "0  [-7.6012075e-05, -0.00039937985, -0.0006083583...         8000      2\n",
              "1  [0.00014733513, 6.0848917e-05, -0.00018095208,...         8000      3\n",
              "2  [-0.00018198133, -0.00033874318, -0.0002097902...         8000      6\n",
              "3  [-0.00056744023, 0.00023026753, 0.0011649787, ...         8000      6\n",
              "4  [0.0016161515, 0.0046419827, 0.008236466, 0.00...         8000      2\n",
              "5  [0.0013857705, 0.0034491864, 0.0042296564, 0.0...         8000      0\n",
              "6  [-0.000120132434, -0.0016094118, -0.0029186795...         8000      1\n",
              "7  [0.00019457292, 0.0007600711, 0.00034040553, -...         8000      1\n",
              "8  [-0.0026423142, -0.0038491387, -0.0039986665, ...         8000      1\n",
              "9  [-0.0015159113, -0.0023767743, -0.0021987108, ...         8000      2"
            ]
          },
          "metadata": {
            "tags": []
          },
          "execution_count": 130
        }
      ]
    },
    {
      "cell_type": "code",
      "metadata": {
        "id": "c0vKR4lG2QSV",
        "colab": {
          "base_uri": "https://localhost:8080/"
        },
        "outputId": "902f602b-0a2c-483b-cdb1-6980ac7a0c1c"
      },
      "source": [
        "dfr.shape"
      ],
      "execution_count": 131,
      "outputs": [
        {
          "output_type": "execute_result",
          "data": {
            "text/plain": [
              "(8000, 3)"
            ]
          },
          "metadata": {
            "tags": []
          },
          "execution_count": 131
        }
      ]
    },
    {
      "cell_type": "code",
      "metadata": {
        "id": "1VrCVRO1iA9u"
      },
      "source": [
        "#dfr = dataframe\n",
        "array = dfr.pop('Sample')\n",
        "df_re = pd.concat([array.apply(pd.Series), dfr['Sample_Rate'] , dfr['Label']], axis=1)"
      ],
      "execution_count": 132,
      "outputs": []
    },
    {
      "cell_type": "code",
      "metadata": {
        "id": "RMuUmeAQWb-S",
        "colab": {
          "base_uri": "https://localhost:8080/"
        },
        "outputId": "2d14fbc8-6f31-4f22-bc81-816d12e7d68a"
      },
      "source": [
        "array.apply(pd.Series).shape"
      ],
      "execution_count": 108,
      "outputs": [
        {
          "output_type": "execute_result",
          "data": {
            "text/plain": [
              "(8000, 8000)"
            ]
          },
          "metadata": {
            "tags": []
          },
          "execution_count": 108
        }
      ]
    },
    {
      "cell_type": "code",
      "metadata": {
        "id": "GwzzKTF8pN0a",
        "colab": {
          "base_uri": "https://localhost:8080/",
          "height": 338
        },
        "outputId": "04bbe5cd-bb14-419c-9ac0-fcfafb4ef901"
      },
      "source": [
        "df_re.head()"
      ],
      "execution_count": 133,
      "outputs": [
        {
          "output_type": "execute_result",
          "data": {
            "text/html": [
              "<div>\n",
              "<style scoped>\n",
              "    .dataframe tbody tr th:only-of-type {\n",
              "        vertical-align: middle;\n",
              "    }\n",
              "\n",
              "    .dataframe tbody tr th {\n",
              "        vertical-align: top;\n",
              "    }\n",
              "\n",
              "    .dataframe thead th {\n",
              "        text-align: right;\n",
              "    }\n",
              "</style>\n",
              "<table border=\"1\" class=\"dataframe\">\n",
              "  <thead>\n",
              "    <tr style=\"text-align: right;\">\n",
              "      <th></th>\n",
              "      <th>0</th>\n",
              "      <th>1</th>\n",
              "      <th>2</th>\n",
              "      <th>3</th>\n",
              "      <th>4</th>\n",
              "      <th>5</th>\n",
              "      <th>6</th>\n",
              "      <th>7</th>\n",
              "      <th>8</th>\n",
              "      <th>9</th>\n",
              "      <th>10</th>\n",
              "      <th>11</th>\n",
              "      <th>12</th>\n",
              "      <th>13</th>\n",
              "      <th>14</th>\n",
              "      <th>15</th>\n",
              "      <th>16</th>\n",
              "      <th>17</th>\n",
              "      <th>18</th>\n",
              "      <th>19</th>\n",
              "      <th>20</th>\n",
              "      <th>21</th>\n",
              "      <th>22</th>\n",
              "      <th>23</th>\n",
              "      <th>24</th>\n",
              "      <th>25</th>\n",
              "      <th>26</th>\n",
              "      <th>27</th>\n",
              "      <th>28</th>\n",
              "      <th>29</th>\n",
              "      <th>30</th>\n",
              "      <th>31</th>\n",
              "      <th>32</th>\n",
              "      <th>33</th>\n",
              "      <th>34</th>\n",
              "      <th>35</th>\n",
              "      <th>36</th>\n",
              "      <th>37</th>\n",
              "      <th>38</th>\n",
              "      <th>39</th>\n",
              "      <th>...</th>\n",
              "      <th>7962</th>\n",
              "      <th>7963</th>\n",
              "      <th>7964</th>\n",
              "      <th>7965</th>\n",
              "      <th>7966</th>\n",
              "      <th>7967</th>\n",
              "      <th>7968</th>\n",
              "      <th>7969</th>\n",
              "      <th>7970</th>\n",
              "      <th>7971</th>\n",
              "      <th>7972</th>\n",
              "      <th>7973</th>\n",
              "      <th>7974</th>\n",
              "      <th>7975</th>\n",
              "      <th>7976</th>\n",
              "      <th>7977</th>\n",
              "      <th>7978</th>\n",
              "      <th>7979</th>\n",
              "      <th>7980</th>\n",
              "      <th>7981</th>\n",
              "      <th>7982</th>\n",
              "      <th>7983</th>\n",
              "      <th>7984</th>\n",
              "      <th>7985</th>\n",
              "      <th>7986</th>\n",
              "      <th>7987</th>\n",
              "      <th>7988</th>\n",
              "      <th>7989</th>\n",
              "      <th>7990</th>\n",
              "      <th>7991</th>\n",
              "      <th>7992</th>\n",
              "      <th>7993</th>\n",
              "      <th>7994</th>\n",
              "      <th>7995</th>\n",
              "      <th>7996</th>\n",
              "      <th>7997</th>\n",
              "      <th>7998</th>\n",
              "      <th>7999</th>\n",
              "      <th>Sample_Rate</th>\n",
              "      <th>Label</th>\n",
              "    </tr>\n",
              "  </thead>\n",
              "  <tbody>\n",
              "    <tr>\n",
              "      <th>0</th>\n",
              "      <td>-0.000076</td>\n",
              "      <td>-0.000399</td>\n",
              "      <td>-0.000608</td>\n",
              "      <td>-0.000457</td>\n",
              "      <td>-2.287428e-04</td>\n",
              "      <td>-0.000030</td>\n",
              "      <td>0.000214</td>\n",
              "      <td>-0.000065</td>\n",
              "      <td>0.000027</td>\n",
              "      <td>0.000170</td>\n",
              "      <td>0.000085</td>\n",
              "      <td>0.000152</td>\n",
              "      <td>0.000108</td>\n",
              "      <td>-0.000188</td>\n",
              "      <td>0.000024</td>\n",
              "      <td>0.000205</td>\n",
              "      <td>-0.000313</td>\n",
              "      <td>-0.000202</td>\n",
              "      <td>-0.000706</td>\n",
              "      <td>-0.000844</td>\n",
              "      <td>-0.000108</td>\n",
              "      <td>-0.000134</td>\n",
              "      <td>0.000144</td>\n",
              "      <td>0.000256</td>\n",
              "      <td>-0.000132</td>\n",
              "      <td>-0.000091</td>\n",
              "      <td>-0.000269</td>\n",
              "      <td>-0.000443</td>\n",
              "      <td>-0.000021</td>\n",
              "      <td>0.000127</td>\n",
              "      <td>0.000233</td>\n",
              "      <td>-0.000125</td>\n",
              "      <td>-0.000276</td>\n",
              "      <td>0.000193</td>\n",
              "      <td>0.000019</td>\n",
              "      <td>0.000247</td>\n",
              "      <td>0.000374</td>\n",
              "      <td>0.000231</td>\n",
              "      <td>0.000414</td>\n",
              "      <td>0.000310</td>\n",
              "      <td>...</td>\n",
              "      <td>-0.000643</td>\n",
              "      <td>-0.000436</td>\n",
              "      <td>0.000123</td>\n",
              "      <td>0.000426</td>\n",
              "      <td>0.000173</td>\n",
              "      <td>-0.000143</td>\n",
              "      <td>-0.000222</td>\n",
              "      <td>0.000015</td>\n",
              "      <td>0.000137</td>\n",
              "      <td>-0.000075</td>\n",
              "      <td>-0.000328</td>\n",
              "      <td>-0.000644</td>\n",
              "      <td>-0.000655</td>\n",
              "      <td>-0.000168</td>\n",
              "      <td>0.000096</td>\n",
              "      <td>-0.000199</td>\n",
              "      <td>-0.000864</td>\n",
              "      <td>-0.000813</td>\n",
              "      <td>-0.000215</td>\n",
              "      <td>-0.000472</td>\n",
              "      <td>-0.000311</td>\n",
              "      <td>-0.000168</td>\n",
              "      <td>-0.000393</td>\n",
              "      <td>-0.000381</td>\n",
              "      <td>-0.000296</td>\n",
              "      <td>0.000236</td>\n",
              "      <td>-0.000098</td>\n",
              "      <td>-0.000516</td>\n",
              "      <td>-0.000166</td>\n",
              "      <td>0.000429</td>\n",
              "      <td>0.001020</td>\n",
              "      <td>0.000518</td>\n",
              "      <td>-0.000147</td>\n",
              "      <td>-0.000398</td>\n",
              "      <td>-0.000027</td>\n",
              "      <td>0.000503</td>\n",
              "      <td>0.000300</td>\n",
              "      <td>0.000388</td>\n",
              "      <td>8000</td>\n",
              "      <td>2</td>\n",
              "    </tr>\n",
              "    <tr>\n",
              "      <th>1</th>\n",
              "      <td>0.000147</td>\n",
              "      <td>0.000061</td>\n",
              "      <td>-0.000181</td>\n",
              "      <td>-0.000135</td>\n",
              "      <td>-9.100668e-07</td>\n",
              "      <td>0.000134</td>\n",
              "      <td>0.000050</td>\n",
              "      <td>0.000032</td>\n",
              "      <td>0.000005</td>\n",
              "      <td>0.000019</td>\n",
              "      <td>-0.000070</td>\n",
              "      <td>-0.000142</td>\n",
              "      <td>-0.000177</td>\n",
              "      <td>-0.000180</td>\n",
              "      <td>-0.000067</td>\n",
              "      <td>0.000075</td>\n",
              "      <td>0.000081</td>\n",
              "      <td>0.000025</td>\n",
              "      <td>0.000234</td>\n",
              "      <td>0.000285</td>\n",
              "      <td>0.000125</td>\n",
              "      <td>0.000234</td>\n",
              "      <td>0.000201</td>\n",
              "      <td>-0.000039</td>\n",
              "      <td>-0.000149</td>\n",
              "      <td>-0.000226</td>\n",
              "      <td>-0.000134</td>\n",
              "      <td>-0.000008</td>\n",
              "      <td>-0.000114</td>\n",
              "      <td>-0.000131</td>\n",
              "      <td>0.000042</td>\n",
              "      <td>0.000192</td>\n",
              "      <td>0.000233</td>\n",
              "      <td>-0.000029</td>\n",
              "      <td>-0.000126</td>\n",
              "      <td>-0.000058</td>\n",
              "      <td>-0.000133</td>\n",
              "      <td>-0.000073</td>\n",
              "      <td>-0.000149</td>\n",
              "      <td>-0.000254</td>\n",
              "      <td>...</td>\n",
              "      <td>0.002554</td>\n",
              "      <td>0.002472</td>\n",
              "      <td>0.002065</td>\n",
              "      <td>0.001585</td>\n",
              "      <td>0.000930</td>\n",
              "      <td>0.000075</td>\n",
              "      <td>-0.000633</td>\n",
              "      <td>-0.001271</td>\n",
              "      <td>-0.001994</td>\n",
              "      <td>-0.002587</td>\n",
              "      <td>-0.002790</td>\n",
              "      <td>-0.002659</td>\n",
              "      <td>-0.002483</td>\n",
              "      <td>-0.002376</td>\n",
              "      <td>-0.002068</td>\n",
              "      <td>-0.001402</td>\n",
              "      <td>-0.000614</td>\n",
              "      <td>0.000120</td>\n",
              "      <td>0.000631</td>\n",
              "      <td>0.001177</td>\n",
              "      <td>0.001796</td>\n",
              "      <td>0.002362</td>\n",
              "      <td>0.002894</td>\n",
              "      <td>0.002905</td>\n",
              "      <td>0.002743</td>\n",
              "      <td>0.002463</td>\n",
              "      <td>0.001885</td>\n",
              "      <td>0.001247</td>\n",
              "      <td>0.000394</td>\n",
              "      <td>-0.000498</td>\n",
              "      <td>-0.001276</td>\n",
              "      <td>-0.001882</td>\n",
              "      <td>-0.002448</td>\n",
              "      <td>-0.002422</td>\n",
              "      <td>-0.002434</td>\n",
              "      <td>-0.002331</td>\n",
              "      <td>-0.001757</td>\n",
              "      <td>-0.001269</td>\n",
              "      <td>8000</td>\n",
              "      <td>3</td>\n",
              "    </tr>\n",
              "    <tr>\n",
              "      <th>2</th>\n",
              "      <td>-0.000182</td>\n",
              "      <td>-0.000339</td>\n",
              "      <td>-0.000210</td>\n",
              "      <td>-0.000090</td>\n",
              "      <td>8.769299e-05</td>\n",
              "      <td>-0.000105</td>\n",
              "      <td>0.000076</td>\n",
              "      <td>0.000291</td>\n",
              "      <td>0.000067</td>\n",
              "      <td>0.000150</td>\n",
              "      <td>0.000171</td>\n",
              "      <td>0.000425</td>\n",
              "      <td>-0.000063</td>\n",
              "      <td>-0.000194</td>\n",
              "      <td>-0.000073</td>\n",
              "      <td>0.000193</td>\n",
              "      <td>0.000235</td>\n",
              "      <td>0.000094</td>\n",
              "      <td>0.000366</td>\n",
              "      <td>0.000036</td>\n",
              "      <td>0.000214</td>\n",
              "      <td>-0.000081</td>\n",
              "      <td>0.000165</td>\n",
              "      <td>-0.000280</td>\n",
              "      <td>-0.000420</td>\n",
              "      <td>-0.000122</td>\n",
              "      <td>-0.000532</td>\n",
              "      <td>-0.000361</td>\n",
              "      <td>-0.000563</td>\n",
              "      <td>0.000047</td>\n",
              "      <td>-0.000094</td>\n",
              "      <td>-0.000018</td>\n",
              "      <td>-0.000079</td>\n",
              "      <td>-0.000164</td>\n",
              "      <td>-0.000106</td>\n",
              "      <td>-0.000185</td>\n",
              "      <td>0.000118</td>\n",
              "      <td>-0.000142</td>\n",
              "      <td>0.000064</td>\n",
              "      <td>0.000067</td>\n",
              "      <td>...</td>\n",
              "      <td>0.000183</td>\n",
              "      <td>0.000200</td>\n",
              "      <td>0.000108</td>\n",
              "      <td>0.000230</td>\n",
              "      <td>0.000160</td>\n",
              "      <td>0.000104</td>\n",
              "      <td>0.000019</td>\n",
              "      <td>0.000108</td>\n",
              "      <td>0.000079</td>\n",
              "      <td>0.000013</td>\n",
              "      <td>-0.000152</td>\n",
              "      <td>-0.000264</td>\n",
              "      <td>-0.000249</td>\n",
              "      <td>-0.000469</td>\n",
              "      <td>-0.000178</td>\n",
              "      <td>-0.000239</td>\n",
              "      <td>-0.000160</td>\n",
              "      <td>-0.000080</td>\n",
              "      <td>0.000085</td>\n",
              "      <td>-0.000015</td>\n",
              "      <td>0.000099</td>\n",
              "      <td>0.000228</td>\n",
              "      <td>0.000080</td>\n",
              "      <td>0.000191</td>\n",
              "      <td>0.000400</td>\n",
              "      <td>0.000315</td>\n",
              "      <td>-0.000136</td>\n",
              "      <td>0.000079</td>\n",
              "      <td>0.000161</td>\n",
              "      <td>0.000096</td>\n",
              "      <td>-0.000164</td>\n",
              "      <td>-0.000165</td>\n",
              "      <td>-0.000221</td>\n",
              "      <td>-0.000208</td>\n",
              "      <td>-0.000101</td>\n",
              "      <td>-0.000037</td>\n",
              "      <td>0.000255</td>\n",
              "      <td>0.000274</td>\n",
              "      <td>8000</td>\n",
              "      <td>6</td>\n",
              "    </tr>\n",
              "    <tr>\n",
              "      <th>3</th>\n",
              "      <td>-0.000567</td>\n",
              "      <td>0.000230</td>\n",
              "      <td>0.001165</td>\n",
              "      <td>0.001900</td>\n",
              "      <td>2.152750e-03</td>\n",
              "      <td>0.000893</td>\n",
              "      <td>-0.000338</td>\n",
              "      <td>0.000699</td>\n",
              "      <td>-0.000435</td>\n",
              "      <td>-0.000649</td>\n",
              "      <td>-0.000389</td>\n",
              "      <td>-0.000239</td>\n",
              "      <td>0.000556</td>\n",
              "      <td>0.000566</td>\n",
              "      <td>0.001043</td>\n",
              "      <td>0.000682</td>\n",
              "      <td>-0.000490</td>\n",
              "      <td>-0.001722</td>\n",
              "      <td>-0.002277</td>\n",
              "      <td>-0.002474</td>\n",
              "      <td>-0.002715</td>\n",
              "      <td>-0.001978</td>\n",
              "      <td>-0.000209</td>\n",
              "      <td>0.000299</td>\n",
              "      <td>0.000888</td>\n",
              "      <td>0.000750</td>\n",
              "      <td>0.001024</td>\n",
              "      <td>0.000078</td>\n",
              "      <td>0.000076</td>\n",
              "      <td>-0.000049</td>\n",
              "      <td>-0.000975</td>\n",
              "      <td>0.002084</td>\n",
              "      <td>0.001452</td>\n",
              "      <td>0.000427</td>\n",
              "      <td>0.000651</td>\n",
              "      <td>0.000468</td>\n",
              "      <td>0.000665</td>\n",
              "      <td>-0.000640</td>\n",
              "      <td>-0.001768</td>\n",
              "      <td>-0.003180</td>\n",
              "      <td>...</td>\n",
              "      <td>NaN</td>\n",
              "      <td>NaN</td>\n",
              "      <td>NaN</td>\n",
              "      <td>NaN</td>\n",
              "      <td>NaN</td>\n",
              "      <td>NaN</td>\n",
              "      <td>NaN</td>\n",
              "      <td>NaN</td>\n",
              "      <td>NaN</td>\n",
              "      <td>NaN</td>\n",
              "      <td>NaN</td>\n",
              "      <td>NaN</td>\n",
              "      <td>NaN</td>\n",
              "      <td>NaN</td>\n",
              "      <td>NaN</td>\n",
              "      <td>NaN</td>\n",
              "      <td>NaN</td>\n",
              "      <td>NaN</td>\n",
              "      <td>NaN</td>\n",
              "      <td>NaN</td>\n",
              "      <td>NaN</td>\n",
              "      <td>NaN</td>\n",
              "      <td>NaN</td>\n",
              "      <td>NaN</td>\n",
              "      <td>NaN</td>\n",
              "      <td>NaN</td>\n",
              "      <td>NaN</td>\n",
              "      <td>NaN</td>\n",
              "      <td>NaN</td>\n",
              "      <td>NaN</td>\n",
              "      <td>NaN</td>\n",
              "      <td>NaN</td>\n",
              "      <td>NaN</td>\n",
              "      <td>NaN</td>\n",
              "      <td>NaN</td>\n",
              "      <td>NaN</td>\n",
              "      <td>NaN</td>\n",
              "      <td>NaN</td>\n",
              "      <td>8000</td>\n",
              "      <td>6</td>\n",
              "    </tr>\n",
              "    <tr>\n",
              "      <th>4</th>\n",
              "      <td>0.001616</td>\n",
              "      <td>0.004642</td>\n",
              "      <td>0.008236</td>\n",
              "      <td>0.007981</td>\n",
              "      <td>6.814431e-03</td>\n",
              "      <td>0.006609</td>\n",
              "      <td>0.004005</td>\n",
              "      <td>0.003044</td>\n",
              "      <td>0.000162</td>\n",
              "      <td>-0.001836</td>\n",
              "      <td>0.001813</td>\n",
              "      <td>0.000786</td>\n",
              "      <td>-0.001012</td>\n",
              "      <td>0.000086</td>\n",
              "      <td>0.001148</td>\n",
              "      <td>0.002198</td>\n",
              "      <td>0.003106</td>\n",
              "      <td>0.007343</td>\n",
              "      <td>0.009282</td>\n",
              "      <td>0.006578</td>\n",
              "      <td>0.005028</td>\n",
              "      <td>0.004513</td>\n",
              "      <td>0.002300</td>\n",
              "      <td>-0.001868</td>\n",
              "      <td>-0.001486</td>\n",
              "      <td>0.001239</td>\n",
              "      <td>0.000657</td>\n",
              "      <td>0.001110</td>\n",
              "      <td>0.000316</td>\n",
              "      <td>0.002687</td>\n",
              "      <td>0.002213</td>\n",
              "      <td>-0.000057</td>\n",
              "      <td>-0.000439</td>\n",
              "      <td>-0.001467</td>\n",
              "      <td>0.000586</td>\n",
              "      <td>0.001716</td>\n",
              "      <td>0.001630</td>\n",
              "      <td>-0.000428</td>\n",
              "      <td>-0.000132</td>\n",
              "      <td>0.000177</td>\n",
              "      <td>...</td>\n",
              "      <td>0.003182</td>\n",
              "      <td>0.001879</td>\n",
              "      <td>0.000977</td>\n",
              "      <td>0.003940</td>\n",
              "      <td>0.003599</td>\n",
              "      <td>0.004568</td>\n",
              "      <td>0.006141</td>\n",
              "      <td>0.006845</td>\n",
              "      <td>0.007170</td>\n",
              "      <td>0.005139</td>\n",
              "      <td>0.004946</td>\n",
              "      <td>0.003053</td>\n",
              "      <td>0.002795</td>\n",
              "      <td>0.003344</td>\n",
              "      <td>-0.000034</td>\n",
              "      <td>0.001831</td>\n",
              "      <td>0.003599</td>\n",
              "      <td>0.003879</td>\n",
              "      <td>0.001711</td>\n",
              "      <td>0.001030</td>\n",
              "      <td>0.005341</td>\n",
              "      <td>0.004558</td>\n",
              "      <td>0.004440</td>\n",
              "      <td>0.002691</td>\n",
              "      <td>0.000092</td>\n",
              "      <td>0.000415</td>\n",
              "      <td>-0.000503</td>\n",
              "      <td>-0.000865</td>\n",
              "      <td>-0.000722</td>\n",
              "      <td>-0.001713</td>\n",
              "      <td>0.000815</td>\n",
              "      <td>0.002925</td>\n",
              "      <td>0.003875</td>\n",
              "      <td>0.005277</td>\n",
              "      <td>0.007401</td>\n",
              "      <td>0.007697</td>\n",
              "      <td>0.006398</td>\n",
              "      <td>0.005862</td>\n",
              "      <td>8000</td>\n",
              "      <td>2</td>\n",
              "    </tr>\n",
              "  </tbody>\n",
              "</table>\n",
              "<p>5 rows × 8002 columns</p>\n",
              "</div>"
            ],
            "text/plain": [
              "          0         1         2  ...      7999  Sample_Rate  Label\n",
              "0 -0.000076 -0.000399 -0.000608  ...  0.000388         8000      2\n",
              "1  0.000147  0.000061 -0.000181  ... -0.001269         8000      3\n",
              "2 -0.000182 -0.000339 -0.000210  ...  0.000274         8000      6\n",
              "3 -0.000567  0.000230  0.001165  ...       NaN         8000      6\n",
              "4  0.001616  0.004642  0.008236  ...  0.005862         8000      2\n",
              "\n",
              "[5 rows x 8002 columns]"
            ]
          },
          "metadata": {
            "tags": []
          },
          "execution_count": 133
        }
      ]
    },
    {
      "cell_type": "code",
      "metadata": {
        "id": "BX4e7YEmpmdz"
      },
      "source": [
        "dropped = df_re.dropna(axis=0)"
      ],
      "execution_count": 134,
      "outputs": []
    },
    {
      "cell_type": "code",
      "metadata": {
        "id": "J0jlfVy5q1KK",
        "colab": {
          "base_uri": "https://localhost:8080/"
        },
        "outputId": "6c272c84-80b4-4a74-d834-ff4adf0f4e37"
      },
      "source": [
        "dropped.shape"
      ],
      "execution_count": 135,
      "outputs": [
        {
          "output_type": "execute_result",
          "data": {
            "text/plain": [
              "(7178, 8002)"
            ]
          },
          "metadata": {
            "tags": []
          },
          "execution_count": 135
        }
      ]
    },
    {
      "cell_type": "code",
      "metadata": {
        "id": "yifrWOUOrdhh",
        "colab": {
          "base_uri": "https://localhost:8080/"
        },
        "outputId": "4d6c452d-af96-4da5-aa71-af7ef035eff0"
      },
      "source": [
        "val_count = df_re['Label'].value_counts()\n",
        "val_count"
      ],
      "execution_count": 136,
      "outputs": [
        {
          "output_type": "execute_result",
          "data": {
            "text/plain": [
              "7    1000\n",
              "3    1000\n",
              "6    1000\n",
              "2    1000\n",
              "5    1000\n",
              "1    1000\n",
              "4    1000\n",
              "0    1000\n",
              "Name: Label, dtype: int64"
            ]
          },
          "metadata": {
            "tags": []
          },
          "execution_count": 136
        }
      ]
    },
    {
      "cell_type": "code",
      "metadata": {
        "id": "BLTRs2jerBWI",
        "colab": {
          "base_uri": "https://localhost:8080/"
        },
        "outputId": "2e44609f-7cc6-4ab9-f773-6bf31557416d"
      },
      "source": [
        "val_count = dropped[\"Label\"].value_counts()\n",
        "val_count"
      ],
      "execution_count": 137,
      "outputs": [
        {
          "output_type": "execute_result",
          "data": {
            "text/plain": [
              "7    930\n",
              "4    912\n",
              "2    911\n",
              "5    908\n",
              "6    904\n",
              "3    880\n",
              "0    874\n",
              "1    859\n",
              "Name: Label, dtype: int64"
            ]
          },
          "metadata": {
            "tags": []
          },
          "execution_count": 137
        }
      ]
    },
    {
      "cell_type": "code",
      "metadata": {
        "colab": {
          "base_uri": "https://localhost:8080/",
          "height": 35
        },
        "id": "cMQcCRcw7DAL",
        "outputId": "5df7dcbc-d194-4a8a-8127-f2da6fa10b29"
      },
      "source": [
        "'''\n",
        "col = [i for i in range(16000)]\n",
        "str_col = [str(col[i]) for i in range(16000) ]\n",
        "str_col[0:4]\n",
        "'''"
      ],
      "execution_count": 138,
      "outputs": [
        {
          "output_type": "execute_result",
          "data": {
            "application/vnd.google.colaboratory.intrinsic+json": {
              "type": "string"
            },
            "text/plain": [
              "'\\ncol = [i for i in range(16000)]\\nstr_col = [str(col[i]) for i in range(16000) ]\\nstr_col[0:4]\\n'"
            ]
          },
          "metadata": {
            "tags": []
          },
          "execution_count": 138
        }
      ]
    },
    {
      "cell_type": "code",
      "metadata": {
        "colab": {
          "base_uri": "https://localhost:8080/",
          "height": 35
        },
        "id": "Z-ssJPYb4wLP",
        "outputId": "af34f7f9-e7fa-4d1c-ff95-f03639b3f676"
      },
      "source": [
        "'''\n",
        "f = pd.DataFrame()\n",
        "for i in range(8000):\n",
        "  for j in range(len(features[\"Sample\"][i])):\n",
        "    f[str_col[j]] = features['Sample'][i][j]\n",
        "'''"
      ],
      "execution_count": 139,
      "outputs": [
        {
          "output_type": "execute_result",
          "data": {
            "application/vnd.google.colaboratory.intrinsic+json": {
              "type": "string"
            },
            "text/plain": [
              "'\\nf = pd.DataFrame()\\nfor i in range(8000):\\n  for j in range(len(features[\"Sample\"][i])):\\n    f[str_col[j]] = features[\\'Sample\\'][i][j]\\n'"
            ]
          },
          "metadata": {
            "tags": []
          },
          "execution_count": 139
        }
      ]
    },
    {
      "cell_type": "markdown",
      "metadata": {
        "id": "gGAB3W-f2688"
      },
      "source": [
        "Dataset split"
      ]
    },
    {
      "cell_type": "code",
      "metadata": {
        "colab": {
          "base_uri": "https://localhost:8080/",
          "height": 338
        },
        "id": "vvAFt85P4SA5",
        "outputId": "73dfa7cd-c965-442a-81e3-28e45c4281ad"
      },
      "source": [
        "#df_re\n",
        "dropped.head(5)"
      ],
      "execution_count": 141,
      "outputs": [
        {
          "output_type": "execute_result",
          "data": {
            "text/html": [
              "<div>\n",
              "<style scoped>\n",
              "    .dataframe tbody tr th:only-of-type {\n",
              "        vertical-align: middle;\n",
              "    }\n",
              "\n",
              "    .dataframe tbody tr th {\n",
              "        vertical-align: top;\n",
              "    }\n",
              "\n",
              "    .dataframe thead th {\n",
              "        text-align: right;\n",
              "    }\n",
              "</style>\n",
              "<table border=\"1\" class=\"dataframe\">\n",
              "  <thead>\n",
              "    <tr style=\"text-align: right;\">\n",
              "      <th></th>\n",
              "      <th>0</th>\n",
              "      <th>1</th>\n",
              "      <th>2</th>\n",
              "      <th>3</th>\n",
              "      <th>4</th>\n",
              "      <th>5</th>\n",
              "      <th>6</th>\n",
              "      <th>7</th>\n",
              "      <th>8</th>\n",
              "      <th>9</th>\n",
              "      <th>10</th>\n",
              "      <th>11</th>\n",
              "      <th>12</th>\n",
              "      <th>13</th>\n",
              "      <th>14</th>\n",
              "      <th>15</th>\n",
              "      <th>16</th>\n",
              "      <th>17</th>\n",
              "      <th>18</th>\n",
              "      <th>19</th>\n",
              "      <th>20</th>\n",
              "      <th>21</th>\n",
              "      <th>22</th>\n",
              "      <th>23</th>\n",
              "      <th>24</th>\n",
              "      <th>25</th>\n",
              "      <th>26</th>\n",
              "      <th>27</th>\n",
              "      <th>28</th>\n",
              "      <th>29</th>\n",
              "      <th>30</th>\n",
              "      <th>31</th>\n",
              "      <th>32</th>\n",
              "      <th>33</th>\n",
              "      <th>34</th>\n",
              "      <th>35</th>\n",
              "      <th>36</th>\n",
              "      <th>37</th>\n",
              "      <th>38</th>\n",
              "      <th>39</th>\n",
              "      <th>...</th>\n",
              "      <th>7962</th>\n",
              "      <th>7963</th>\n",
              "      <th>7964</th>\n",
              "      <th>7965</th>\n",
              "      <th>7966</th>\n",
              "      <th>7967</th>\n",
              "      <th>7968</th>\n",
              "      <th>7969</th>\n",
              "      <th>7970</th>\n",
              "      <th>7971</th>\n",
              "      <th>7972</th>\n",
              "      <th>7973</th>\n",
              "      <th>7974</th>\n",
              "      <th>7975</th>\n",
              "      <th>7976</th>\n",
              "      <th>7977</th>\n",
              "      <th>7978</th>\n",
              "      <th>7979</th>\n",
              "      <th>7980</th>\n",
              "      <th>7981</th>\n",
              "      <th>7982</th>\n",
              "      <th>7983</th>\n",
              "      <th>7984</th>\n",
              "      <th>7985</th>\n",
              "      <th>7986</th>\n",
              "      <th>7987</th>\n",
              "      <th>7988</th>\n",
              "      <th>7989</th>\n",
              "      <th>7990</th>\n",
              "      <th>7991</th>\n",
              "      <th>7992</th>\n",
              "      <th>7993</th>\n",
              "      <th>7994</th>\n",
              "      <th>7995</th>\n",
              "      <th>7996</th>\n",
              "      <th>7997</th>\n",
              "      <th>7998</th>\n",
              "      <th>7999</th>\n",
              "      <th>Sample_Rate</th>\n",
              "      <th>Label</th>\n",
              "    </tr>\n",
              "  </thead>\n",
              "  <tbody>\n",
              "    <tr>\n",
              "      <th>0</th>\n",
              "      <td>-0.000076</td>\n",
              "      <td>-0.000399</td>\n",
              "      <td>-0.000608</td>\n",
              "      <td>-0.000457</td>\n",
              "      <td>-2.287428e-04</td>\n",
              "      <td>-0.000030</td>\n",
              "      <td>0.000214</td>\n",
              "      <td>-0.000065</td>\n",
              "      <td>0.000027</td>\n",
              "      <td>0.000170</td>\n",
              "      <td>0.000085</td>\n",
              "      <td>0.000152</td>\n",
              "      <td>0.000108</td>\n",
              "      <td>-0.000188</td>\n",
              "      <td>0.000024</td>\n",
              "      <td>0.000205</td>\n",
              "      <td>-0.000313</td>\n",
              "      <td>-0.000202</td>\n",
              "      <td>-0.000706</td>\n",
              "      <td>-0.000844</td>\n",
              "      <td>-0.000108</td>\n",
              "      <td>-0.000134</td>\n",
              "      <td>0.000144</td>\n",
              "      <td>0.000256</td>\n",
              "      <td>-0.000132</td>\n",
              "      <td>-0.000091</td>\n",
              "      <td>-0.000269</td>\n",
              "      <td>-0.000443</td>\n",
              "      <td>-0.000021</td>\n",
              "      <td>0.000127</td>\n",
              "      <td>0.000233</td>\n",
              "      <td>-0.000125</td>\n",
              "      <td>-0.000276</td>\n",
              "      <td>0.000193</td>\n",
              "      <td>0.000019</td>\n",
              "      <td>0.000247</td>\n",
              "      <td>0.000374</td>\n",
              "      <td>0.000231</td>\n",
              "      <td>0.000414</td>\n",
              "      <td>0.000310</td>\n",
              "      <td>...</td>\n",
              "      <td>-0.000643</td>\n",
              "      <td>-0.000436</td>\n",
              "      <td>0.000123</td>\n",
              "      <td>0.000426</td>\n",
              "      <td>0.000173</td>\n",
              "      <td>-0.000143</td>\n",
              "      <td>-0.000222</td>\n",
              "      <td>0.000015</td>\n",
              "      <td>0.000137</td>\n",
              "      <td>-0.000075</td>\n",
              "      <td>-0.000328</td>\n",
              "      <td>-0.000644</td>\n",
              "      <td>-0.000655</td>\n",
              "      <td>-0.000168</td>\n",
              "      <td>0.000096</td>\n",
              "      <td>-0.000199</td>\n",
              "      <td>-0.000864</td>\n",
              "      <td>-0.000813</td>\n",
              "      <td>-0.000215</td>\n",
              "      <td>-0.000472</td>\n",
              "      <td>-0.000311</td>\n",
              "      <td>-0.000168</td>\n",
              "      <td>-0.000393</td>\n",
              "      <td>-0.000381</td>\n",
              "      <td>-0.000296</td>\n",
              "      <td>0.000236</td>\n",
              "      <td>-0.000098</td>\n",
              "      <td>-0.000516</td>\n",
              "      <td>-0.000166</td>\n",
              "      <td>0.000429</td>\n",
              "      <td>0.001020</td>\n",
              "      <td>0.000518</td>\n",
              "      <td>-0.000147</td>\n",
              "      <td>-0.000398</td>\n",
              "      <td>-0.000027</td>\n",
              "      <td>0.000503</td>\n",
              "      <td>0.000300</td>\n",
              "      <td>0.000388</td>\n",
              "      <td>8000</td>\n",
              "      <td>2</td>\n",
              "    </tr>\n",
              "    <tr>\n",
              "      <th>1</th>\n",
              "      <td>0.000147</td>\n",
              "      <td>0.000061</td>\n",
              "      <td>-0.000181</td>\n",
              "      <td>-0.000135</td>\n",
              "      <td>-9.100668e-07</td>\n",
              "      <td>0.000134</td>\n",
              "      <td>0.000050</td>\n",
              "      <td>0.000032</td>\n",
              "      <td>0.000005</td>\n",
              "      <td>0.000019</td>\n",
              "      <td>-0.000070</td>\n",
              "      <td>-0.000142</td>\n",
              "      <td>-0.000177</td>\n",
              "      <td>-0.000180</td>\n",
              "      <td>-0.000067</td>\n",
              "      <td>0.000075</td>\n",
              "      <td>0.000081</td>\n",
              "      <td>0.000025</td>\n",
              "      <td>0.000234</td>\n",
              "      <td>0.000285</td>\n",
              "      <td>0.000125</td>\n",
              "      <td>0.000234</td>\n",
              "      <td>0.000201</td>\n",
              "      <td>-0.000039</td>\n",
              "      <td>-0.000149</td>\n",
              "      <td>-0.000226</td>\n",
              "      <td>-0.000134</td>\n",
              "      <td>-0.000008</td>\n",
              "      <td>-0.000114</td>\n",
              "      <td>-0.000131</td>\n",
              "      <td>0.000042</td>\n",
              "      <td>0.000192</td>\n",
              "      <td>0.000233</td>\n",
              "      <td>-0.000029</td>\n",
              "      <td>-0.000126</td>\n",
              "      <td>-0.000058</td>\n",
              "      <td>-0.000133</td>\n",
              "      <td>-0.000073</td>\n",
              "      <td>-0.000149</td>\n",
              "      <td>-0.000254</td>\n",
              "      <td>...</td>\n",
              "      <td>0.002554</td>\n",
              "      <td>0.002472</td>\n",
              "      <td>0.002065</td>\n",
              "      <td>0.001585</td>\n",
              "      <td>0.000930</td>\n",
              "      <td>0.000075</td>\n",
              "      <td>-0.000633</td>\n",
              "      <td>-0.001271</td>\n",
              "      <td>-0.001994</td>\n",
              "      <td>-0.002587</td>\n",
              "      <td>-0.002790</td>\n",
              "      <td>-0.002659</td>\n",
              "      <td>-0.002483</td>\n",
              "      <td>-0.002376</td>\n",
              "      <td>-0.002068</td>\n",
              "      <td>-0.001402</td>\n",
              "      <td>-0.000614</td>\n",
              "      <td>0.000120</td>\n",
              "      <td>0.000631</td>\n",
              "      <td>0.001177</td>\n",
              "      <td>0.001796</td>\n",
              "      <td>0.002362</td>\n",
              "      <td>0.002894</td>\n",
              "      <td>0.002905</td>\n",
              "      <td>0.002743</td>\n",
              "      <td>0.002463</td>\n",
              "      <td>0.001885</td>\n",
              "      <td>0.001247</td>\n",
              "      <td>0.000394</td>\n",
              "      <td>-0.000498</td>\n",
              "      <td>-0.001276</td>\n",
              "      <td>-0.001882</td>\n",
              "      <td>-0.002448</td>\n",
              "      <td>-0.002422</td>\n",
              "      <td>-0.002434</td>\n",
              "      <td>-0.002331</td>\n",
              "      <td>-0.001757</td>\n",
              "      <td>-0.001269</td>\n",
              "      <td>8000</td>\n",
              "      <td>3</td>\n",
              "    </tr>\n",
              "    <tr>\n",
              "      <th>2</th>\n",
              "      <td>-0.000182</td>\n",
              "      <td>-0.000339</td>\n",
              "      <td>-0.000210</td>\n",
              "      <td>-0.000090</td>\n",
              "      <td>8.769299e-05</td>\n",
              "      <td>-0.000105</td>\n",
              "      <td>0.000076</td>\n",
              "      <td>0.000291</td>\n",
              "      <td>0.000067</td>\n",
              "      <td>0.000150</td>\n",
              "      <td>0.000171</td>\n",
              "      <td>0.000425</td>\n",
              "      <td>-0.000063</td>\n",
              "      <td>-0.000194</td>\n",
              "      <td>-0.000073</td>\n",
              "      <td>0.000193</td>\n",
              "      <td>0.000235</td>\n",
              "      <td>0.000094</td>\n",
              "      <td>0.000366</td>\n",
              "      <td>0.000036</td>\n",
              "      <td>0.000214</td>\n",
              "      <td>-0.000081</td>\n",
              "      <td>0.000165</td>\n",
              "      <td>-0.000280</td>\n",
              "      <td>-0.000420</td>\n",
              "      <td>-0.000122</td>\n",
              "      <td>-0.000532</td>\n",
              "      <td>-0.000361</td>\n",
              "      <td>-0.000563</td>\n",
              "      <td>0.000047</td>\n",
              "      <td>-0.000094</td>\n",
              "      <td>-0.000018</td>\n",
              "      <td>-0.000079</td>\n",
              "      <td>-0.000164</td>\n",
              "      <td>-0.000106</td>\n",
              "      <td>-0.000185</td>\n",
              "      <td>0.000118</td>\n",
              "      <td>-0.000142</td>\n",
              "      <td>0.000064</td>\n",
              "      <td>0.000067</td>\n",
              "      <td>...</td>\n",
              "      <td>0.000183</td>\n",
              "      <td>0.000200</td>\n",
              "      <td>0.000108</td>\n",
              "      <td>0.000230</td>\n",
              "      <td>0.000160</td>\n",
              "      <td>0.000104</td>\n",
              "      <td>0.000019</td>\n",
              "      <td>0.000108</td>\n",
              "      <td>0.000079</td>\n",
              "      <td>0.000013</td>\n",
              "      <td>-0.000152</td>\n",
              "      <td>-0.000264</td>\n",
              "      <td>-0.000249</td>\n",
              "      <td>-0.000469</td>\n",
              "      <td>-0.000178</td>\n",
              "      <td>-0.000239</td>\n",
              "      <td>-0.000160</td>\n",
              "      <td>-0.000080</td>\n",
              "      <td>0.000085</td>\n",
              "      <td>-0.000015</td>\n",
              "      <td>0.000099</td>\n",
              "      <td>0.000228</td>\n",
              "      <td>0.000080</td>\n",
              "      <td>0.000191</td>\n",
              "      <td>0.000400</td>\n",
              "      <td>0.000315</td>\n",
              "      <td>-0.000136</td>\n",
              "      <td>0.000079</td>\n",
              "      <td>0.000161</td>\n",
              "      <td>0.000096</td>\n",
              "      <td>-0.000164</td>\n",
              "      <td>-0.000165</td>\n",
              "      <td>-0.000221</td>\n",
              "      <td>-0.000208</td>\n",
              "      <td>-0.000101</td>\n",
              "      <td>-0.000037</td>\n",
              "      <td>0.000255</td>\n",
              "      <td>0.000274</td>\n",
              "      <td>8000</td>\n",
              "      <td>6</td>\n",
              "    </tr>\n",
              "    <tr>\n",
              "      <th>4</th>\n",
              "      <td>0.001616</td>\n",
              "      <td>0.004642</td>\n",
              "      <td>0.008236</td>\n",
              "      <td>0.007981</td>\n",
              "      <td>6.814431e-03</td>\n",
              "      <td>0.006609</td>\n",
              "      <td>0.004005</td>\n",
              "      <td>0.003044</td>\n",
              "      <td>0.000162</td>\n",
              "      <td>-0.001836</td>\n",
              "      <td>0.001813</td>\n",
              "      <td>0.000786</td>\n",
              "      <td>-0.001012</td>\n",
              "      <td>0.000086</td>\n",
              "      <td>0.001148</td>\n",
              "      <td>0.002198</td>\n",
              "      <td>0.003106</td>\n",
              "      <td>0.007343</td>\n",
              "      <td>0.009282</td>\n",
              "      <td>0.006578</td>\n",
              "      <td>0.005028</td>\n",
              "      <td>0.004513</td>\n",
              "      <td>0.002300</td>\n",
              "      <td>-0.001868</td>\n",
              "      <td>-0.001486</td>\n",
              "      <td>0.001239</td>\n",
              "      <td>0.000657</td>\n",
              "      <td>0.001110</td>\n",
              "      <td>0.000316</td>\n",
              "      <td>0.002687</td>\n",
              "      <td>0.002213</td>\n",
              "      <td>-0.000057</td>\n",
              "      <td>-0.000439</td>\n",
              "      <td>-0.001467</td>\n",
              "      <td>0.000586</td>\n",
              "      <td>0.001716</td>\n",
              "      <td>0.001630</td>\n",
              "      <td>-0.000428</td>\n",
              "      <td>-0.000132</td>\n",
              "      <td>0.000177</td>\n",
              "      <td>...</td>\n",
              "      <td>0.003182</td>\n",
              "      <td>0.001879</td>\n",
              "      <td>0.000977</td>\n",
              "      <td>0.003940</td>\n",
              "      <td>0.003599</td>\n",
              "      <td>0.004568</td>\n",
              "      <td>0.006141</td>\n",
              "      <td>0.006845</td>\n",
              "      <td>0.007170</td>\n",
              "      <td>0.005139</td>\n",
              "      <td>0.004946</td>\n",
              "      <td>0.003053</td>\n",
              "      <td>0.002795</td>\n",
              "      <td>0.003344</td>\n",
              "      <td>-0.000034</td>\n",
              "      <td>0.001831</td>\n",
              "      <td>0.003599</td>\n",
              "      <td>0.003879</td>\n",
              "      <td>0.001711</td>\n",
              "      <td>0.001030</td>\n",
              "      <td>0.005341</td>\n",
              "      <td>0.004558</td>\n",
              "      <td>0.004440</td>\n",
              "      <td>0.002691</td>\n",
              "      <td>0.000092</td>\n",
              "      <td>0.000415</td>\n",
              "      <td>-0.000503</td>\n",
              "      <td>-0.000865</td>\n",
              "      <td>-0.000722</td>\n",
              "      <td>-0.001713</td>\n",
              "      <td>0.000815</td>\n",
              "      <td>0.002925</td>\n",
              "      <td>0.003875</td>\n",
              "      <td>0.005277</td>\n",
              "      <td>0.007401</td>\n",
              "      <td>0.007697</td>\n",
              "      <td>0.006398</td>\n",
              "      <td>0.005862</td>\n",
              "      <td>8000</td>\n",
              "      <td>2</td>\n",
              "    </tr>\n",
              "    <tr>\n",
              "      <th>6</th>\n",
              "      <td>-0.000120</td>\n",
              "      <td>-0.001609</td>\n",
              "      <td>-0.002919</td>\n",
              "      <td>-0.001455</td>\n",
              "      <td>-2.806267e-03</td>\n",
              "      <td>-0.000992</td>\n",
              "      <td>0.000537</td>\n",
              "      <td>-0.000857</td>\n",
              "      <td>0.004094</td>\n",
              "      <td>0.000642</td>\n",
              "      <td>-0.003748</td>\n",
              "      <td>-0.000893</td>\n",
              "      <td>0.002017</td>\n",
              "      <td>-0.000791</td>\n",
              "      <td>-0.000452</td>\n",
              "      <td>-0.003046</td>\n",
              "      <td>-0.001043</td>\n",
              "      <td>-0.001967</td>\n",
              "      <td>0.000128</td>\n",
              "      <td>-0.001255</td>\n",
              "      <td>-0.002590</td>\n",
              "      <td>0.005056</td>\n",
              "      <td>0.001778</td>\n",
              "      <td>0.000593</td>\n",
              "      <td>-0.003456</td>\n",
              "      <td>0.001940</td>\n",
              "      <td>-0.001624</td>\n",
              "      <td>0.001929</td>\n",
              "      <td>-0.005898</td>\n",
              "      <td>0.003532</td>\n",
              "      <td>-0.004482</td>\n",
              "      <td>0.000001</td>\n",
              "      <td>-0.005105</td>\n",
              "      <td>0.001724</td>\n",
              "      <td>-0.005550</td>\n",
              "      <td>-0.006946</td>\n",
              "      <td>-0.025887</td>\n",
              "      <td>-0.081365</td>\n",
              "      <td>-0.062632</td>\n",
              "      <td>-0.130016</td>\n",
              "      <td>...</td>\n",
              "      <td>0.000153</td>\n",
              "      <td>0.000549</td>\n",
              "      <td>0.000530</td>\n",
              "      <td>0.000765</td>\n",
              "      <td>0.001353</td>\n",
              "      <td>0.000595</td>\n",
              "      <td>-0.002769</td>\n",
              "      <td>0.001199</td>\n",
              "      <td>0.001762</td>\n",
              "      <td>-0.000268</td>\n",
              "      <td>0.001916</td>\n",
              "      <td>0.002581</td>\n",
              "      <td>0.003976</td>\n",
              "      <td>0.003339</td>\n",
              "      <td>0.000939</td>\n",
              "      <td>-0.001930</td>\n",
              "      <td>0.000384</td>\n",
              "      <td>0.001089</td>\n",
              "      <td>0.000231</td>\n",
              "      <td>-0.001577</td>\n",
              "      <td>-0.003474</td>\n",
              "      <td>0.001210</td>\n",
              "      <td>0.000514</td>\n",
              "      <td>-0.000692</td>\n",
              "      <td>-0.003248</td>\n",
              "      <td>-0.003981</td>\n",
              "      <td>-0.000181</td>\n",
              "      <td>0.001310</td>\n",
              "      <td>-0.000692</td>\n",
              "      <td>0.000692</td>\n",
              "      <td>0.003429</td>\n",
              "      <td>0.001881</td>\n",
              "      <td>0.002210</td>\n",
              "      <td>0.001740</td>\n",
              "      <td>0.001695</td>\n",
              "      <td>0.001054</td>\n",
              "      <td>-0.002569</td>\n",
              "      <td>-0.004456</td>\n",
              "      <td>8000</td>\n",
              "      <td>1</td>\n",
              "    </tr>\n",
              "  </tbody>\n",
              "</table>\n",
              "<p>5 rows × 8002 columns</p>\n",
              "</div>"
            ],
            "text/plain": [
              "          0         1         2  ...      7999  Sample_Rate  Label\n",
              "0 -0.000076 -0.000399 -0.000608  ...  0.000388         8000      2\n",
              "1  0.000147  0.000061 -0.000181  ... -0.001269         8000      3\n",
              "2 -0.000182 -0.000339 -0.000210  ...  0.000274         8000      6\n",
              "4  0.001616  0.004642  0.008236  ...  0.005862         8000      2\n",
              "6 -0.000120 -0.001609 -0.002919  ... -0.004456         8000      1\n",
              "\n",
              "[5 rows x 8002 columns]"
            ]
          },
          "metadata": {
            "tags": []
          },
          "execution_count": 141
        }
      ]
    },
    {
      "cell_type": "code",
      "metadata": {
        "id": "9ZdTAyXT26SD"
      },
      "source": [
        "X = dropped.iloc[:,0:8000].values\n",
        "Y = pd.DataFrame(dropped['Label'],columns=['Label'])"
      ],
      "execution_count": 142,
      "outputs": []
    },
    {
      "cell_type": "code",
      "metadata": {
        "colab": {
          "base_uri": "https://localhost:8080/"
        },
        "id": "div3YASJ5nuU",
        "outputId": "155815af-6996-4b7b-aaa2-fd782610ad08"
      },
      "source": [
        "len(Y)"
      ],
      "execution_count": 143,
      "outputs": [
        {
          "output_type": "execute_result",
          "data": {
            "text/plain": [
              "7178"
            ]
          },
          "metadata": {
            "tags": []
          },
          "execution_count": 143
        }
      ]
    },
    {
      "cell_type": "code",
      "metadata": {
        "id": "fSJzfSAO5p-e"
      },
      "source": [
        "X_train,X_test,Y_train,Y_test = train_test_split(X,Y,test_size=0.2,random_state=42)"
      ],
      "execution_count": 144,
      "outputs": []
    },
    {
      "cell_type": "code",
      "metadata": {
        "id": "HCK4QZeXhjS3",
        "colab": {
          "base_uri": "https://localhost:8080/"
        },
        "outputId": "b669c6a6-97a5-423b-e62e-8e4494e3c7f4"
      },
      "source": [
        "clf = DecisionTreeClassifier( criterion='gini' , max_depth=100)\n",
        "clf.fit(X_train,Y_train)\n",
        "clf.score(X_test , Y_test)*100"
      ],
      "execution_count": 121,
      "outputs": [
        {
          "output_type": "execute_result",
          "data": {
            "text/plain": [
              "15.807799442896936"
            ]
          },
          "metadata": {
            "tags": []
          },
          "execution_count": 121
        }
      ]
    },
    {
      "cell_type": "code",
      "metadata": {
        "colab": {
          "base_uri": "https://localhost:8080/"
        },
        "id": "R0yRqKNwFGSF",
        "outputId": "0f670913-78e0-40a6-e2d3-fc72bb4d698f"
      },
      "source": [
        "clf2 = svm.SVC(kernel='rbf' , random_state=16 )\n",
        "clf2.fit(X_train,Y_train.ravel())\n",
        "clf2.score(X_test , Y_test)*100"
      ],
      "execution_count": 122,
      "outputs": [
        {
          "output_type": "stream",
          "text": [
            "/usr/local/lib/python3.7/dist-packages/sklearn/utils/validation.py:760: DataConversionWarning:\n",
            "\n",
            "A column-vector y was passed when a 1d array was expected. Please change the shape of y to (n_samples, ), for example using ravel().\n",
            "\n"
          ],
          "name": "stderr"
        },
        {
          "output_type": "execute_result",
          "data": {
            "text/plain": [
              "15.529247910863509"
            ]
          },
          "metadata": {
            "tags": []
          },
          "execution_count": 122
        }
      ]
    },
    {
      "cell_type": "code",
      "metadata": {
        "id": "W7ve8xMYeguq"
      },
      "source": [
        "X_train = X_train.reshape(-1,8000,1)\n",
        "X_test = X_test.reshape(-1,8000,1)"
      ],
      "execution_count": null,
      "outputs": []
    },
    {
      "cell_type": "code",
      "metadata": {
        "id": "4lGKwJz4cXsE",
        "colab": {
          "base_uri": "https://localhost:8080/"
        },
        "outputId": "3da7d607-45dc-4d69-e946-03f652d07f49"
      },
      "source": [
        "# New modelT\n",
        "model = Sequential()\n",
        "model.add(Conv1D(256, 8, padding='same',input_shape=(X_train.shape[1],1)))  # X_train.shape[1] = No. of Columns\n",
        "model.add(Activation('relu'))\n",
        "model.add(Conv1D(256, 8, padding='same'))\n",
        "model.add(BatchNormalization())\n",
        "model.add(Activation('relu'))\n",
        "model.add(Dropout(0.25))\n",
        "model.add(MaxPooling1D(pool_size=(8)))\n",
        "model.add(Conv1D(128, 8, padding='same'))\n",
        "model.add(Activation('relu'))\n",
        "model.add(Conv1D(128, 8, padding='same'))\n",
        "model.add(Activation('relu'))\n",
        "model.add(Conv1D(128, 8, padding='same'))\n",
        "model.add(Activation('relu'))\n",
        "model.add(Conv1D(128, 8, padding='same'))\n",
        "model.add(BatchNormalization())\n",
        "model.add(Activation('relu'))\n",
        "model.add(Dropout(0.25))\n",
        "model.add(MaxPooling1D(pool_size=(8)))\n",
        "model.add(Conv1D(64, 8, padding='same'))\n",
        "model.add(Activation('relu'))\n",
        "model.add(Conv1D(64, 8, padding='same'))\n",
        "model.add(Activation('relu'))\n",
        "model.add(Flatten())\n",
        "model.add(Dense(8)) # Target class number\n",
        "model.add(Activation('softmax'))\n",
        "# opt = keras.optimizers.SGD(lr=0.0001, momentum=0.0, decay=0.0, nesterov=False)\n",
        "# opt = keras.optimizers.Adam(lr=0.0001)\n",
        "opt = keras.optimizers.RMSprop(lr=0.00001, decay=1e-6)\n",
        "model.summary()"
      ],
      "execution_count": null,
      "outputs": [
        {
          "output_type": "stream",
          "text": [
            "Model: \"sequential_1\"\n",
            "_________________________________________________________________\n",
            "Layer (type)                 Output Shape              Param #   \n",
            "=================================================================\n",
            "conv1d_8 (Conv1D)            (None, 8000, 256)         2304      \n",
            "_________________________________________________________________\n",
            "activation_9 (Activation)    (None, 8000, 256)         0         \n",
            "_________________________________________________________________\n",
            "conv1d_9 (Conv1D)            (None, 8000, 256)         524544    \n",
            "_________________________________________________________________\n",
            "batch_normalization_2 (Batch (None, 8000, 256)         1024      \n",
            "_________________________________________________________________\n",
            "activation_10 (Activation)   (None, 8000, 256)         0         \n",
            "_________________________________________________________________\n",
            "dropout_2 (Dropout)          (None, 8000, 256)         0         \n",
            "_________________________________________________________________\n",
            "max_pooling1d_2 (MaxPooling1 (None, 1000, 256)         0         \n",
            "_________________________________________________________________\n",
            "conv1d_10 (Conv1D)           (None, 1000, 128)         262272    \n",
            "_________________________________________________________________\n",
            "activation_11 (Activation)   (None, 1000, 128)         0         \n",
            "_________________________________________________________________\n",
            "conv1d_11 (Conv1D)           (None, 1000, 128)         131200    \n",
            "_________________________________________________________________\n",
            "activation_12 (Activation)   (None, 1000, 128)         0         \n",
            "_________________________________________________________________\n",
            "conv1d_12 (Conv1D)           (None, 1000, 128)         131200    \n",
            "_________________________________________________________________\n",
            "activation_13 (Activation)   (None, 1000, 128)         0         \n",
            "_________________________________________________________________\n",
            "conv1d_13 (Conv1D)           (None, 1000, 128)         131200    \n",
            "_________________________________________________________________\n",
            "batch_normalization_3 (Batch (None, 1000, 128)         512       \n",
            "_________________________________________________________________\n",
            "activation_14 (Activation)   (None, 1000, 128)         0         \n",
            "_________________________________________________________________\n",
            "dropout_3 (Dropout)          (None, 1000, 128)         0         \n",
            "_________________________________________________________________\n",
            "max_pooling1d_3 (MaxPooling1 (None, 125, 128)          0         \n",
            "_________________________________________________________________\n",
            "conv1d_14 (Conv1D)           (None, 125, 64)           65600     \n",
            "_________________________________________________________________\n",
            "activation_15 (Activation)   (None, 125, 64)           0         \n",
            "_________________________________________________________________\n",
            "conv1d_15 (Conv1D)           (None, 125, 64)           32832     \n",
            "_________________________________________________________________\n",
            "activation_16 (Activation)   (None, 125, 64)           0         \n",
            "_________________________________________________________________\n",
            "flatten_1 (Flatten)          (None, 8000)              0         \n",
            "_________________________________________________________________\n",
            "dense_1 (Dense)              (None, 8)                 64008     \n",
            "_________________________________________________________________\n",
            "activation_17 (Activation)   (None, 8)                 0         \n",
            "=================================================================\n",
            "Total params: 1,346,696\n",
            "Trainable params: 1,345,928\n",
            "Non-trainable params: 768\n",
            "_________________________________________________________________\n"
          ],
          "name": "stdout"
        }
      ]
    },
    {
      "cell_type": "code",
      "metadata": {
        "id": "-iAZNRxAesWu"
      },
      "source": [
        "y_train = to_categorical(Y_train, dtype =\"uint8\")\n",
        "y_test = to_categorical(Y_test, dtype =\"uint8\")"
      ],
      "execution_count": null,
      "outputs": []
    },
    {
      "cell_type": "code",
      "metadata": {
        "id": "7nWdwRMLdOkk",
        "colab": {
          "base_uri": "https://localhost:8080/"
        },
        "outputId": "4211550a-c6bf-4fd3-d009-a5a2a1b390a4"
      },
      "source": [
        "model.compile(loss='categorical_crossentropy', optimizer=opt,metrics=['accuracy'])\n",
        "model_history=model.fit(X_train, y_train, batch_size=64, epochs=100, validation_data=(X_test, y_test),verbose = 1)"
      ],
      "execution_count": null,
      "outputs": [
        {
          "output_type": "stream",
          "text": [
            "Epoch 1/100\n",
            "90/90 [==============================] - 96s 659ms/step - loss: 2.3391 - accuracy: 0.1230 - val_loss: 2.0787 - val_accuracy: 0.1358\n",
            "Epoch 2/100\n",
            "90/90 [==============================] - 54s 602ms/step - loss: 2.0648 - accuracy: 0.1679 - val_loss: 2.0776 - val_accuracy: 0.1358\n",
            "Epoch 3/100\n",
            "90/90 [==============================] - 54s 605ms/step - loss: 2.0030 - accuracy: 0.2107 - val_loss: 2.0744 - val_accuracy: 0.1302\n",
            "Epoch 4/100\n",
            "90/90 [==============================] - 54s 605ms/step - loss: 1.9474 - accuracy: 0.2610 - val_loss: 2.0654 - val_accuracy: 0.1643\n",
            "Epoch 5/100\n",
            "90/90 [==============================] - 54s 606ms/step - loss: 1.8924 - accuracy: 0.2838 - val_loss: 2.0420 - val_accuracy: 0.1964\n",
            "Epoch 6/100\n",
            "90/90 [==============================] - 54s 605ms/step - loss: 1.8346 - accuracy: 0.3234 - val_loss: 1.9955 - val_accuracy: 0.2535\n",
            "Epoch 7/100\n",
            "90/90 [==============================] - 54s 605ms/step - loss: 1.7632 - accuracy: 0.3639 - val_loss: 1.9407 - val_accuracy: 0.2681\n",
            "Epoch 8/100\n",
            "90/90 [==============================] - 54s 606ms/step - loss: 1.7015 - accuracy: 0.3776 - val_loss: 1.8717 - val_accuracy: 0.3099\n",
            "Epoch 9/100\n",
            "90/90 [==============================] - 54s 606ms/step - loss: 1.6535 - accuracy: 0.4105 - val_loss: 1.7973 - val_accuracy: 0.3586\n",
            "Epoch 10/100\n",
            "90/90 [==============================] - 54s 605ms/step - loss: 1.5874 - accuracy: 0.4315 - val_loss: 1.7262 - val_accuracy: 0.3955\n",
            "Epoch 11/100\n",
            "90/90 [==============================] - 54s 606ms/step - loss: 1.5288 - accuracy: 0.4568 - val_loss: 1.6873 - val_accuracy: 0.4255\n",
            "Epoch 12/100\n",
            "90/90 [==============================] - 55s 607ms/step - loss: 1.4607 - accuracy: 0.5032 - val_loss: 1.6376 - val_accuracy: 0.4471\n",
            "Epoch 13/100\n",
            "90/90 [==============================] - 55s 607ms/step - loss: 1.4140 - accuracy: 0.5109 - val_loss: 1.5866 - val_accuracy: 0.4749\n",
            "Epoch 14/100\n",
            "90/90 [==============================] - 55s 607ms/step - loss: 1.3194 - accuracy: 0.5485 - val_loss: 1.5140 - val_accuracy: 0.5188\n",
            "Epoch 15/100\n",
            "90/90 [==============================] - 55s 608ms/step - loss: 1.3024 - accuracy: 0.5643 - val_loss: 1.5261 - val_accuracy: 0.4951\n",
            "Epoch 16/100\n",
            "90/90 [==============================] - 55s 607ms/step - loss: 1.2573 - accuracy: 0.5832 - val_loss: 1.4429 - val_accuracy: 0.5299\n",
            "Epoch 17/100\n",
            "90/90 [==============================] - 55s 607ms/step - loss: 1.2197 - accuracy: 0.5940 - val_loss: 1.4584 - val_accuracy: 0.5084\n",
            "Epoch 18/100\n",
            "90/90 [==============================] - 55s 607ms/step - loss: 1.1552 - accuracy: 0.6163 - val_loss: 1.4231 - val_accuracy: 0.5313\n",
            "Epoch 19/100\n",
            "90/90 [==============================] - 55s 608ms/step - loss: 1.1619 - accuracy: 0.6225 - val_loss: 1.4104 - val_accuracy: 0.5529\n",
            "Epoch 20/100\n",
            "90/90 [==============================] - 55s 608ms/step - loss: 1.0947 - accuracy: 0.6372 - val_loss: 1.3359 - val_accuracy: 0.5724\n",
            "Epoch 21/100\n",
            "90/90 [==============================] - 55s 608ms/step - loss: 1.0662 - accuracy: 0.6537 - val_loss: 1.3122 - val_accuracy: 0.5919\n",
            "Epoch 22/100\n",
            "90/90 [==============================] - 55s 608ms/step - loss: 1.0228 - accuracy: 0.6773 - val_loss: 1.3018 - val_accuracy: 0.5745\n",
            "Epoch 23/100\n",
            "90/90 [==============================] - 55s 608ms/step - loss: 1.0008 - accuracy: 0.6792 - val_loss: 1.3761 - val_accuracy: 0.5501\n",
            "Epoch 24/100\n",
            "90/90 [==============================] - 55s 608ms/step - loss: 0.9801 - accuracy: 0.6780 - val_loss: 1.2285 - val_accuracy: 0.6107\n",
            "Epoch 25/100\n",
            "90/90 [==============================] - 55s 608ms/step - loss: 0.9480 - accuracy: 0.7022 - val_loss: 1.2969 - val_accuracy: 0.5794\n",
            "Epoch 26/100\n",
            "90/90 [==============================] - 55s 607ms/step - loss: 0.9618 - accuracy: 0.6918 - val_loss: 1.2601 - val_accuracy: 0.6086\n",
            "Epoch 27/100\n",
            "90/90 [==============================] - 55s 607ms/step - loss: 0.8923 - accuracy: 0.7141 - val_loss: 1.2476 - val_accuracy: 0.5766\n",
            "Epoch 28/100\n",
            "90/90 [==============================] - 55s 608ms/step - loss: 0.8816 - accuracy: 0.7226 - val_loss: 1.2566 - val_accuracy: 0.5891\n",
            "Epoch 29/100\n",
            "90/90 [==============================] - 55s 608ms/step - loss: 0.8566 - accuracy: 0.7263 - val_loss: 1.3170 - val_accuracy: 0.5397\n",
            "Epoch 30/100\n",
            "90/90 [==============================] - 55s 608ms/step - loss: 0.8133 - accuracy: 0.7437 - val_loss: 1.2737 - val_accuracy: 0.5703\n",
            "Epoch 31/100\n",
            "90/90 [==============================] - 55s 608ms/step - loss: 0.8209 - accuracy: 0.7407 - val_loss: 1.2850 - val_accuracy: 0.5731\n",
            "Epoch 32/100\n",
            "90/90 [==============================] - 55s 608ms/step - loss: 0.8067 - accuracy: 0.7474 - val_loss: 1.2565 - val_accuracy: 0.5794\n",
            "Epoch 33/100\n",
            "90/90 [==============================] - 55s 608ms/step - loss: 0.7707 - accuracy: 0.7576 - val_loss: 1.2763 - val_accuracy: 0.5724\n",
            "Epoch 34/100\n",
            "90/90 [==============================] - 55s 608ms/step - loss: 0.7494 - accuracy: 0.7538 - val_loss: 1.1798 - val_accuracy: 0.6205\n",
            "Epoch 35/100\n",
            "90/90 [==============================] - 55s 608ms/step - loss: 0.7197 - accuracy: 0.7710 - val_loss: 1.1591 - val_accuracy: 0.6344\n",
            "Epoch 36/100\n",
            "90/90 [==============================] - 55s 608ms/step - loss: 0.7049 - accuracy: 0.7764 - val_loss: 1.1503 - val_accuracy: 0.6323\n",
            "Epoch 37/100\n",
            "90/90 [==============================] - 55s 609ms/step - loss: 0.7087 - accuracy: 0.7793 - val_loss: 1.0903 - val_accuracy: 0.6595\n",
            "Epoch 38/100\n",
            "90/90 [==============================] - 55s 608ms/step - loss: 0.6788 - accuracy: 0.7888 - val_loss: 1.2084 - val_accuracy: 0.5947\n",
            "Epoch 39/100\n",
            "90/90 [==============================] - 55s 608ms/step - loss: 0.6895 - accuracy: 0.7794 - val_loss: 1.0816 - val_accuracy: 0.6532\n",
            "Epoch 40/100\n",
            "90/90 [==============================] - 55s 609ms/step - loss: 0.6588 - accuracy: 0.7948 - val_loss: 1.0678 - val_accuracy: 0.6560\n",
            "Epoch 41/100\n",
            "90/90 [==============================] - 55s 608ms/step - loss: 0.6358 - accuracy: 0.8057 - val_loss: 0.9856 - val_accuracy: 0.6950\n",
            "Epoch 42/100\n",
            "90/90 [==============================] - 55s 609ms/step - loss: 0.6219 - accuracy: 0.8102 - val_loss: 1.0911 - val_accuracy: 0.6490\n",
            "Epoch 43/100\n",
            "90/90 [==============================] - 55s 608ms/step - loss: 0.6164 - accuracy: 0.8027 - val_loss: 1.0090 - val_accuracy: 0.6727\n",
            "Epoch 44/100\n",
            "90/90 [==============================] - 55s 608ms/step - loss: 0.5957 - accuracy: 0.8165 - val_loss: 1.1005 - val_accuracy: 0.6351\n",
            "Epoch 45/100\n",
            "90/90 [==============================] - 55s 609ms/step - loss: 0.5816 - accuracy: 0.8222 - val_loss: 0.9613 - val_accuracy: 0.6845\n",
            "Epoch 46/100\n",
            "90/90 [==============================] - 55s 609ms/step - loss: 0.5502 - accuracy: 0.8294 - val_loss: 0.9716 - val_accuracy: 0.6901\n",
            "Epoch 47/100\n",
            "90/90 [==============================] - 55s 608ms/step - loss: 0.5479 - accuracy: 0.8409 - val_loss: 1.0747 - val_accuracy: 0.6379\n",
            "Epoch 48/100\n",
            "90/90 [==============================] - 55s 608ms/step - loss: 0.5516 - accuracy: 0.8317 - val_loss: 1.0056 - val_accuracy: 0.6769\n",
            "Epoch 49/100\n",
            "90/90 [==============================] - 55s 609ms/step - loss: 0.5275 - accuracy: 0.8368 - val_loss: 0.9801 - val_accuracy: 0.6831\n",
            "Epoch 50/100\n",
            "90/90 [==============================] - 55s 609ms/step - loss: 0.5058 - accuracy: 0.8429 - val_loss: 0.8960 - val_accuracy: 0.7277\n",
            "Epoch 51/100\n",
            "90/90 [==============================] - 55s 607ms/step - loss: 0.5031 - accuracy: 0.8572 - val_loss: 0.9350 - val_accuracy: 0.6957\n",
            "Epoch 52/100\n",
            "90/90 [==============================] - 55s 608ms/step - loss: 0.4847 - accuracy: 0.8517 - val_loss: 0.9957 - val_accuracy: 0.6741\n",
            "Epoch 53/100\n",
            "90/90 [==============================] - 55s 608ms/step - loss: 0.4712 - accuracy: 0.8615 - val_loss: 0.9640 - val_accuracy: 0.6866\n",
            "Epoch 54/100\n",
            "90/90 [==============================] - 55s 609ms/step - loss: 0.4800 - accuracy: 0.8527 - val_loss: 0.9940 - val_accuracy: 0.6511\n",
            "Epoch 55/100\n",
            "90/90 [==============================] - 55s 608ms/step - loss: 0.4742 - accuracy: 0.8621 - val_loss: 0.9022 - val_accuracy: 0.7214\n",
            "Epoch 56/100\n",
            "90/90 [==============================] - 55s 609ms/step - loss: 0.4440 - accuracy: 0.8795 - val_loss: 0.9110 - val_accuracy: 0.7124\n",
            "Epoch 57/100\n",
            "90/90 [==============================] - 55s 609ms/step - loss: 0.4478 - accuracy: 0.8667 - val_loss: 0.9820 - val_accuracy: 0.6664\n",
            "Epoch 58/100\n",
            "90/90 [==============================] - 55s 609ms/step - loss: 0.4262 - accuracy: 0.8811 - val_loss: 1.1430 - val_accuracy: 0.5829\n",
            "Epoch 59/100\n",
            "90/90 [==============================] - 55s 609ms/step - loss: 0.4433 - accuracy: 0.8674 - val_loss: 0.8950 - val_accuracy: 0.7159\n",
            "Epoch 60/100\n",
            "90/90 [==============================] - 55s 609ms/step - loss: 0.3992 - accuracy: 0.8812 - val_loss: 0.9793 - val_accuracy: 0.6692\n",
            "Epoch 61/100\n",
            "90/90 [==============================] - 55s 609ms/step - loss: 0.4069 - accuracy: 0.8861 - val_loss: 0.8646 - val_accuracy: 0.7173\n",
            "Epoch 62/100\n",
            "90/90 [==============================] - 55s 609ms/step - loss: 0.4046 - accuracy: 0.8807 - val_loss: 0.9912 - val_accuracy: 0.6825\n",
            "Epoch 63/100\n",
            "90/90 [==============================] - 55s 610ms/step - loss: 0.3910 - accuracy: 0.8830 - val_loss: 0.8452 - val_accuracy: 0.7270\n",
            "Epoch 64/100\n",
            "90/90 [==============================] - 55s 608ms/step - loss: 0.3817 - accuracy: 0.8883 - val_loss: 0.9874 - val_accuracy: 0.6609\n",
            "Epoch 65/100\n",
            "90/90 [==============================] - 55s 609ms/step - loss: 0.3731 - accuracy: 0.8958 - val_loss: 0.8546 - val_accuracy: 0.7221\n",
            "Epoch 66/100\n",
            "90/90 [==============================] - 55s 609ms/step - loss: 0.3532 - accuracy: 0.9074 - val_loss: 0.8033 - val_accuracy: 0.7451\n",
            "Epoch 67/100\n",
            "90/90 [==============================] - 55s 608ms/step - loss: 0.3563 - accuracy: 0.9019 - val_loss: 0.7886 - val_accuracy: 0.7396\n",
            "Epoch 68/100\n",
            "90/90 [==============================] - 55s 609ms/step - loss: 0.3324 - accuracy: 0.9165 - val_loss: 0.8821 - val_accuracy: 0.7110\n",
            "Epoch 69/100\n",
            "90/90 [==============================] - 55s 609ms/step - loss: 0.3508 - accuracy: 0.9018 - val_loss: 0.8459 - val_accuracy: 0.7201\n",
            "Epoch 70/100\n",
            "90/90 [==============================] - 55s 609ms/step - loss: 0.3523 - accuracy: 0.8972 - val_loss: 0.8268 - val_accuracy: 0.7298\n",
            "Epoch 71/100\n",
            "90/90 [==============================] - 55s 610ms/step - loss: 0.3276 - accuracy: 0.9090 - val_loss: 0.7692 - val_accuracy: 0.7409\n",
            "Epoch 72/100\n",
            "90/90 [==============================] - 55s 609ms/step - loss: 0.3085 - accuracy: 0.9161 - val_loss: 0.9061 - val_accuracy: 0.6894\n",
            "Epoch 73/100\n",
            "90/90 [==============================] - 55s 609ms/step - loss: 0.2954 - accuracy: 0.9191 - val_loss: 0.8418 - val_accuracy: 0.7194\n",
            "Epoch 74/100\n",
            "90/90 [==============================] - 55s 609ms/step - loss: 0.3046 - accuracy: 0.9206 - val_loss: 0.7429 - val_accuracy: 0.7639\n",
            "Epoch 75/100\n",
            "90/90 [==============================] - 55s 609ms/step - loss: 0.3203 - accuracy: 0.9098 - val_loss: 0.7797 - val_accuracy: 0.7430\n",
            "Epoch 76/100\n",
            "90/90 [==============================] - 55s 609ms/step - loss: 0.3094 - accuracy: 0.9093 - val_loss: 0.7667 - val_accuracy: 0.7611\n",
            "Epoch 77/100\n",
            "90/90 [==============================] - 55s 610ms/step - loss: 0.2903 - accuracy: 0.9228 - val_loss: 0.7186 - val_accuracy: 0.7765\n",
            "Epoch 78/100\n",
            "90/90 [==============================] - 55s 610ms/step - loss: 0.2850 - accuracy: 0.9202 - val_loss: 0.9354 - val_accuracy: 0.6825\n",
            "Epoch 79/100\n",
            "90/90 [==============================] - 55s 609ms/step - loss: 0.2837 - accuracy: 0.9212 - val_loss: 0.7518 - val_accuracy: 0.7639\n",
            "Epoch 80/100\n",
            "90/90 [==============================] - 55s 609ms/step - loss: 0.2678 - accuracy: 0.9274 - val_loss: 0.7433 - val_accuracy: 0.7653\n",
            "Epoch 81/100\n",
            "90/90 [==============================] - 55s 609ms/step - loss: 0.2621 - accuracy: 0.9306 - val_loss: 0.7611 - val_accuracy: 0.7403\n",
            "Epoch 82/100\n",
            "90/90 [==============================] - 55s 609ms/step - loss: 0.2628 - accuracy: 0.9265 - val_loss: 0.7658 - val_accuracy: 0.7514\n",
            "Epoch 83/100\n",
            "90/90 [==============================] - 55s 609ms/step - loss: 0.2543 - accuracy: 0.9336 - val_loss: 0.8468 - val_accuracy: 0.7284\n",
            "Epoch 84/100\n",
            "90/90 [==============================] - 55s 610ms/step - loss: 0.2517 - accuracy: 0.9343 - val_loss: 0.7195 - val_accuracy: 0.7577\n",
            "Epoch 85/100\n",
            "90/90 [==============================] - 55s 609ms/step - loss: 0.2489 - accuracy: 0.9343 - val_loss: 0.7694 - val_accuracy: 0.7486\n",
            "Epoch 86/100\n",
            "90/90 [==============================] - 55s 610ms/step - loss: 0.2328 - accuracy: 0.9406 - val_loss: 0.8203 - val_accuracy: 0.7284\n",
            "Epoch 87/100\n",
            "90/90 [==============================] - 55s 609ms/step - loss: 0.2415 - accuracy: 0.9358 - val_loss: 0.7172 - val_accuracy: 0.7653\n",
            "Epoch 88/100\n",
            "90/90 [==============================] - 55s 609ms/step - loss: 0.2384 - accuracy: 0.9382 - val_loss: 0.7580 - val_accuracy: 0.7556\n",
            "Epoch 89/100\n",
            "90/90 [==============================] - 55s 609ms/step - loss: 0.2383 - accuracy: 0.9363 - val_loss: 0.7511 - val_accuracy: 0.7535\n",
            "Epoch 90/100\n",
            "90/90 [==============================] - 55s 609ms/step - loss: 0.2213 - accuracy: 0.9439 - val_loss: 0.7269 - val_accuracy: 0.7709\n",
            "Epoch 91/100\n",
            "90/90 [==============================] - 55s 609ms/step - loss: 0.2201 - accuracy: 0.9413 - val_loss: 0.7540 - val_accuracy: 0.7500\n",
            "Epoch 92/100\n",
            "90/90 [==============================] - 55s 610ms/step - loss: 0.2282 - accuracy: 0.9375 - val_loss: 0.8306 - val_accuracy: 0.7312\n",
            "Epoch 93/100\n",
            "90/90 [==============================] - 55s 609ms/step - loss: 0.2141 - accuracy: 0.9448 - val_loss: 0.7069 - val_accuracy: 0.7765\n",
            "Epoch 94/100\n",
            "90/90 [==============================] - 55s 609ms/step - loss: 0.2092 - accuracy: 0.9459 - val_loss: 0.7037 - val_accuracy: 0.7709\n",
            "Epoch 95/100\n",
            "90/90 [==============================] - 55s 609ms/step - loss: 0.1979 - accuracy: 0.9536 - val_loss: 0.8770 - val_accuracy: 0.7180\n",
            "Epoch 96/100\n",
            "90/90 [==============================] - 55s 610ms/step - loss: 0.1984 - accuracy: 0.9479 - val_loss: 0.7984 - val_accuracy: 0.7430\n",
            "Epoch 97/100\n",
            "90/90 [==============================] - 55s 609ms/step - loss: 0.2096 - accuracy: 0.9461 - val_loss: 0.7539 - val_accuracy: 0.7542\n",
            "Epoch 98/100\n",
            "90/90 [==============================] - 55s 609ms/step - loss: 0.1925 - accuracy: 0.9493 - val_loss: 0.8359 - val_accuracy: 0.7277\n",
            "Epoch 99/100\n",
            "90/90 [==============================] - 55s 609ms/step - loss: 0.2097 - accuracy: 0.9489 - val_loss: 0.8447 - val_accuracy: 0.7263\n",
            "Epoch 100/100\n",
            "67/90 [=====================>........] - ETA: 13s - loss: 0.1868 - accuracy: 0.9548"
          ],
          "name": "stdout"
        }
      ]
    }
  ]
}